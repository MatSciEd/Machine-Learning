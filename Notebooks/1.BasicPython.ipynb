{
 "cells": [
  {
   "cell_type": "markdown",
   "id": "ab9d16a9-6ee3-4d92-8602-6fea3eed3831",
   "metadata": {},
   "source": [
    "# Programming in Python\n",
    "\n",
    "[![Open In Colab](https://colab.research.google.com/assets/colab-badge.svg)](https://colab.research.google.com/github/rhennig/EMA6938/blob/main/Notebooks/1.BasicPython.ipynb)\n",
    "\n",
    "(Based on the tutorials at https://www.halvorsen.blog and https://cs231n.github.io/python-numpy-tutorial/)\n",
    "\n",
    "We will provide a brief overview and an example for\n",
    "- Variables in Python\n",
    "- Calculations in Python\n",
    "- Numbers and Strings\n",
    "- Built-in Functions\n",
    "- Python Standard Library\n",
    "- Using Python Libraries, Packages and Modules\n",
    "  - NumPy\n",
    "  - Matplotlib\n",
    "- Arrays, Loops, and Functions"
   ]
  },
  {
   "cell_type": "markdown",
   "id": "acd6e315-3d5a-4b55-a284-eb946f9eed64",
   "metadata": {},
   "source": [
    "Every programming course traditionally starts with the \"Hello World\" example."
   ]
  },
  {
   "cell_type": "code",
   "execution_count": 1,
   "id": "54756ddf-0e1b-4b15-a906-81e5ed06f662",
   "metadata": {},
   "outputs": [
    {
     "name": "stdout",
     "output_type": "stream",
     "text": [
      "Hello World\n"
     ]
    }
   ],
   "source": [
    "print (\"Hello World\")"
   ]
  },
  {
   "cell_type": "markdown",
   "id": "9051e03a-05fc-4a85-8826-32b0050730a6",
   "metadata": {},
   "source": [
    "Next, a basic example of arithmetic."
   ]
  },
  {
   "cell_type": "code",
   "execution_count": 2,
   "id": "81c41108-be35-4118-9e28-abcb9897b54a",
   "metadata": {},
   "outputs": [
    {
     "name": "stdout",
     "output_type": "stream",
     "text": [
      "5\n"
     ]
    }
   ],
   "source": [
    "x = 3\n",
    "y = 2\n",
    "z =  x + y\n",
    "print(z)"
   ]
  },
  {
   "cell_type": "markdown",
   "id": "99bc4559-cd85-40ea-ac2c-88e862b3afc8",
   "metadata": {},
   "source": [
    "## 1. Variables in Python\n",
    "- Variables are defined with the assignment operator, “=”.\n",
    "- Python is dynamically typed, meaning that variables can be assigned without declaring their type, and that their type can change."
   ]
  },
  {
   "cell_type": "markdown",
   "id": "071d2aef-a321-456e-9b0d-aaf406645f34",
   "metadata": {},
   "source": [
    "### Creating variables"
   ]
  },
  {
   "cell_type": "code",
   "execution_count": 3,
   "id": "c24a79e2-34fc-41bf-84c8-5e897c8b7c8c",
   "metadata": {},
   "outputs": [
    {
     "data": {
      "text/plain": [
       "3"
      ]
     },
     "execution_count": 3,
     "metadata": {},
     "output_type": "execute_result"
    }
   ],
   "source": [
    "x = 3\n",
    "x"
   ]
  },
  {
   "cell_type": "markdown",
   "id": "454e45e4-136a-4bd8-8ec8-6803dc649334",
   "metadata": {},
   "source": [
    "### We can use variables in calculations"
   ]
  },
  {
   "cell_type": "code",
   "execution_count": 4,
   "id": "3813dbf5-6761-4313-a90c-6c249b91999b",
   "metadata": {},
   "outputs": [
    {
     "name": "stdout",
     "output_type": "stream",
     "text": [
      "9\n"
     ]
    }
   ],
   "source": [
    "x = 3\n",
    "y = x**2       # Exponentiation\n",
    "print(y)"
   ]
  },
  {
   "cell_type": "markdown",
   "id": "c465811b-850d-4746-a925-7afbf4864451",
   "metadata": {},
   "source": [
    "### We can implement the formula $y(x) = a + bx$\n",
    "Then we can evaluate $y(x)$ for different values of $x$."
   ]
  },
  {
   "cell_type": "code",
   "execution_count": 5,
   "id": "4d5f3b2c-4525-4384-83b7-476f92d32204",
   "metadata": {},
   "outputs": [
    {
     "name": "stdout",
     "output_type": "stream",
     "text": [
      "14\n",
      "22\n"
     ]
    }
   ],
   "source": [
    "a = 2\n",
    "b = 4\n",
    "x = 3\n",
    "y = a + b*x\n",
    "print(y)\n",
    "\n",
    "x = 5\n",
    "y = a + b*x\n",
    "print(y)"
   ]
  },
  {
   "cell_type": "markdown",
   "id": "c4e1e256-cce9-4285-bdd1-91fb67841be1",
   "metadata": {},
   "source": [
    "A variable can have a short name (like x and y) or a more descriptive name (sum, amount, etc). You don need to define the variables before you use them (like you need to to in, e.g., C/C++/C)."
   ]
  },
  {
   "cell_type": "markdown",
   "id": "d4968d56-b649-4a67-b656-9b8c6fdf4531",
   "metadata": {},
   "source": [
    "### Basic rules for Python variable names\n",
    "- Must start with a letter or the underscore character\n",
    "- Cannot start with a number\n",
    "- Can only contain alpha-numeric characters (A-z, 0-9) and underscores\n",
    "- Are case-sensitive, e.g., amount, Amount and AMOUNT are three different variables."
   ]
  },
  {
   "cell_type": "markdown",
   "id": "8d9b9c42-a1c8-4f04-b754-36d3a5bed05d",
   "metadata": {},
   "source": [
    "### There are three numeric types in Python"
   ]
  },
  {
   "cell_type": "code",
   "execution_count": 6,
   "id": "03bf6f8f-d4eb-4aa2-b540-f8119a5c100f",
   "metadata": {},
   "outputs": [
    {
     "data": {
      "text/plain": [
       "int"
      ]
     },
     "execution_count": 6,
     "metadata": {},
     "output_type": "execute_result"
    }
   ],
   "source": [
    "# Integer numbers or int\n",
    "x = 1\n",
    "\n",
    "# Check the type\n",
    "type(x)"
   ]
  },
  {
   "cell_type": "code",
   "execution_count": 7,
   "id": "e4462120-77c1-473a-a7c4-6567f8bf5fd9",
   "metadata": {},
   "outputs": [
    {
     "data": {
      "text/plain": [
       "float"
      ]
     },
     "execution_count": 7,
     "metadata": {},
     "output_type": "execute_result"
    }
   ],
   "source": [
    "# Floating numbers of float\n",
    "y = 2.8\n",
    "\n",
    "# Check the type\n",
    "type(y)"
   ]
  },
  {
   "cell_type": "code",
   "execution_count": 8,
   "id": "8c51a351-6ce7-4af6-b28e-eec0e21b8bad",
   "metadata": {},
   "outputs": [
    {
     "data": {
      "text/plain": [
       "complex"
      ]
     },
     "execution_count": 8,
     "metadata": {},
     "output_type": "execute_result"
    }
   ],
   "source": [
    "# Complex numbers\n",
    "z = 3 + 2j\n",
    "\n",
    "# Check the type\n",
    "type(z)"
   ]
  },
  {
   "cell_type": "markdown",
   "id": "3e1fd1fd-96ae-4778-bb31-5d9ad52342bf",
   "metadata": {},
   "source": [
    "Variables of numeric types are automatically created when you assign a value to them, so in normal coding you don't need to bother.\n",
    "\n",
    "Note that the symbol # is used for comments in the code"
   ]
  },
  {
   "cell_type": "markdown",
   "id": "a3543a86-f78d-40a2-804f-e3bcc89611c0",
   "metadata": {},
   "source": [
    "## 2. Strings\n",
    "- Are surrounded by either single quotation marks, or double quotation marks.\n",
    "- 'Hello' is the same as \"Hello\".\n",
    "- Strings can be output to screen using the print function. For example:"
   ]
  },
  {
   "cell_type": "code",
   "execution_count": 9,
   "id": "cf0a60b4-58ed-443c-85e5-85db8135da1b",
   "metadata": {},
   "outputs": [
    {
     "name": "stdout",
     "output_type": "stream",
     "text": [
      "Hello\n"
     ]
    }
   ],
   "source": [
    "print(\"Hello\")"
   ]
  },
  {
   "cell_type": "code",
   "execution_count": 10,
   "id": "f970b1d6-c342-426a-aec8-811305442638",
   "metadata": {},
   "outputs": [
    {
     "name": "stdout",
     "output_type": "stream",
     "text": [
      "Hello\n"
     ]
    }
   ],
   "source": [
    "text = 'Hello'\n",
    "print(text)"
   ]
  },
  {
   "cell_type": "markdown",
   "id": "222cd060-2379-4f78-98ac-41033368c0e5",
   "metadata": {},
   "source": [
    "### Manipulating Strings\n",
    "There are many built-in functions form manipulating strings in Python.\n",
    "\n",
    "The Example shows only a few of them:"
   ]
  },
  {
   "cell_type": "code",
   "execution_count": 11,
   "id": "453dbce5-218b-4ea9-a0de-3ee27316e4f9",
   "metadata": {},
   "outputs": [
    {
     "name": "stdout",
     "output_type": "stream",
     "text": [
      "Hello World!\n",
      "e\n",
      "llo\n",
      "12\n"
     ]
    }
   ],
   "source": [
    "a = \"Hello World!\"\n",
    "print(a)\n",
    "\n",
    "# Strings in Python are arrays of bytes.\n",
    "# We can use index to get a specific character within the string.\n",
    "print(a[1])\n",
    "print(a[2:5])\n",
    "\n",
    "# Length of the string.\n",
    "print(len(a))"
   ]
  },
  {
   "cell_type": "code",
   "execution_count": 12,
   "id": "b05f87ca-fca1-4550-a621-9a8bf00f3fda",
   "metadata": {},
   "outputs": [
    {
     "name": "stdout",
     "output_type": "stream",
     "text": [
      "hello world!\n",
      "HELLO WORLD!\n",
      "Jello World!\n"
     ]
    }
   ],
   "source": [
    "# Change to lower and upper case.\n",
    "print(a.lower())\n",
    "print(a.upper())\n",
    "\n",
    "# Replace a specific letter.\n",
    "print(a.replace(\"H\", \"J\"))"
   ]
  },
  {
   "cell_type": "code",
   "execution_count": 13,
   "id": "0e439392-065f-40a4-b730-24f0fa18c486",
   "metadata": {},
   "outputs": [
    {
     "name": "stdout",
     "output_type": "stream",
     "text": [
      "['Hello', 'World!']\n",
      "HelloWorld\n"
     ]
    }
   ],
   "source": [
    "# Split into words.\n",
    "print(a.split(\" \"))\n",
    "\n",
    "# We can merge strings.\n",
    "a = \"Hello\"\n",
    "b = \"World\"\n",
    "c = a + b\n",
    "print(c)"
   ]
  },
  {
   "cell_type": "code",
   "execution_count": null,
   "id": "afde2c8b-afd4-48af-97a4-ed94f21bcc54",
   "metadata": {},
   "outputs": [
    {
     "name": "stdout",
     "output_type": "stream",
     "text": [
      "Enter your name:\n"
     ]
    }
   ],
   "source": [
    "# String input using the input() function\n",
    "print(\"Enter your name:\")\n",
    "x = input()\n",
    "print(\"Hello \" + x)"
   ]
  },
  {
   "cell_type": "markdown",
   "id": "e36d45b5-db39-4e60-9f64-5b35fc2e73ee",
   "metadata": {},
   "source": [
    "## 3. Built-in Functions\n",
    "Python provides lots of built-in functions.\n",
    "- Some examples are the print and input functions and the functions for manipulating strings that we already used.\n",
    "- Python also consists of different Modules, Libraries or Packages, which provide many predefined functions for different topics or areas, such as mathematics, plotting, handling database systems, etc.\n",
    "- Later we will also create our own functions."
   ]
  },
  {
   "cell_type": "markdown",
   "id": "c99471ff-e864-4e54-97cd-0275f1dff5e8",
   "metadata": {},
   "source": [
    "### Python Standard Library\n",
    "- Python allows you to split your program intom odules that can be reused in other Python programs. It comes with a large collection of standard modules that you can use as the basis of your programs.\n",
    "- The Python Standard Library consists of different modules for handling file I/O, basic mathematics, etc.\n",
    "- You don't need to install the modules in the Python Standard Library separately, but you need to important them when you want to use some of these modules or some of the functions within these modules."
   ]
  },
  {
   "cell_type": "markdown",
   "id": "fbffdab0-a2f1-4d59-b375-5fa2efeee84d",
   "metadata": {},
   "source": [
    "### Math Module\n",
    "The math module has all the basic math functions you need, such as:\n",
    "- Trigonometric functions: sin(x), cos(x), etc.\n",
    "- Logarithmic functions: log(), log10(), etc.\n",
    "- Statistics: mean(), stdev(), etc.\n",
    "- Constants like $\\pi$, e, inf, nan, etc."
   ]
  },
  {
   "cell_type": "code",
   "execution_count": null,
   "id": "40c6c5e5-0d57-413f-aac6-a96e7f384d4f",
   "metadata": {},
   "outputs": [],
   "source": [
    "# If we need only the sin() function\n",
    "from math import sin\n",
    "\n",
    "x = 3.14\n",
    "y = sin(x)\n",
    "print(x, y)"
   ]
  },
  {
   "cell_type": "code",
   "execution_count": null,
   "id": "842ed843-6eb3-4e04-a1f4-424e065c5cfe",
   "metadata": {},
   "outputs": [],
   "source": [
    "#If we need a few functions\n",
    "from math import sin, cos\n",
    "\n",
    "x = 1.57\n",
    "y = sin(x)\n",
    "print(x, y)\n",
    "y = cos(x)\n",
    "print(x, y)"
   ]
  },
  {
   "cell_type": "code",
   "execution_count": null,
   "id": "64161fa2-058f-4dfa-9541-2c18722aa397",
   "metadata": {},
   "outputs": [],
   "source": [
    "# If we need many of the math functions\n",
    "from math import *\n",
    "\n",
    "x = pi\n",
    "y = sin(x)\n",
    "print(x, y)\n",
    "y = cos(x)\n",
    "print(x, y)"
   ]
  },
  {
   "cell_type": "code",
   "execution_count": null,
   "id": "7e4c1545-e3c8-49d8-b343-cb1409fec6ad",
   "metadata": {},
   "outputs": [],
   "source": [
    "# We can also do\n",
    "import math\n",
    "\n",
    "x = pi/2\n",
    "y = math.sin(x)\n",
    "print(x, y)"
   ]
  },
  {
   "cell_type": "markdown",
   "id": "8a309c86-354e-43a0-96c0-bd9ad688f26d",
   "metadata": {},
   "source": [
    "## 4. Using Python Libraries, Packages and Modules\n",
    "Rather than having all its functionality built into its core, Python was designed to be highly extensible.\n",
    "- This approach has advantages and disadvantages.\n",
    "- A disadvantage is that you need to install these packages\n",
    "separately and then later import these modules in your code.\n",
    "- Some important packages are:\n",
    "  - NumPy - NumPy is the fundamental package for scientific computing with Python\n",
    "  - Matplotlib – With this library you can easily make plots in Python"
   ]
  },
  {
   "cell_type": "markdown",
   "id": "81c15bdf-2891-4d22-980f-a1147690d41b",
   "metadata": {},
   "source": [
    "### Installing Packages/Libraries\n",
    "- If you have installed Python using the Anaconda distribution, all the most used Python Packages/Libraries are included (NumPy, Matplotlib, +++)\n",
    "- Else, you typically use PIP to install Python packages"
   ]
  },
  {
   "cell_type": "markdown",
   "id": "83af306c-9303-4c09-bbf9-9990ef3fc905",
   "metadata": {
    "tags": []
   },
   "source": [
    "### PIP\n",
    "- PIP is a Package Manager for Python packages/modules\n",
    "- With PIP you can download and install Python packages/modules from the Python Package Index (PyPI)\n",
    "- What is a Package? A package contains all the files you need for a module. Modules are Python code libraries you can include in your project.\n",
    "- The Python Package Index (PyPI) is a repository of Python packages\n",
    "- Typically you just enter “pip install <packagename>“\n",
    "- PIP uses the Python Package Index (https://pypi.org), PyPI as a source, which stores almost 200.000 Python projects    "
   ]
  },
  {
   "cell_type": "markdown",
   "id": "a875aaa8-4d36-4549-95ba-ac2485de0e27",
   "metadata": {
    "tags": []
   },
   "source": [
    "### Command Prompt or terminal\n",
    "Use PIP from the Command Prompt (cmd) in Windows or the terminal (Xterm) in macOS or Linux.\n",
    "- To install or uninstall a Python package, e.g., the pint package\n",
    "  - `pip install pint`\n",
    "  - `pip uninstall pint`\n",
    "- Note, the pint package provides the capability of having physical variables with units.\n",
    "- To show all installed Python Packages\n",
    "  - `pip list`"
   ]
  },
  {
   "cell_type": "code",
   "execution_count": null,
   "id": "5af838a7-a79d-4a13-93b7-4209df90364b",
   "metadata": {},
   "outputs": [],
   "source": [
    "# Install the pint package using pip in the current Jupyter kernel\n",
    "# To use pint, restart the kernel\n",
    "import sys\n",
    "!{sys.executable} -m pip install pint"
   ]
  },
  {
   "cell_type": "markdown",
   "id": "a187e201-4d9b-42f5-a31a-61227cbda75d",
   "metadata": {},
   "source": [
    "### Using libraries\n",
    "You need to use the import keyword on top of you Python script:\n",
    "\n",
    "`import packagename as alias`\n",
    "\n",
    "`... your Python code ...`"
   ]
  },
  {
   "cell_type": "code",
   "execution_count": null,
   "id": "5a2280e5-13ed-436f-ac4c-a68fc5a7b19b",
   "metadata": {},
   "outputs": [],
   "source": [
    "# Example using numpy\n",
    "# Numpy comes installed as part of Anaconda\n",
    "# Otherwise, you can install it using \"pip install numpy\"\n",
    "import numpy as np\n",
    "x = 3\n",
    "y = np.sin(x)\n",
    "print(y)"
   ]
  },
  {
   "cell_type": "markdown",
   "id": "bda4b392-dc82-4bd5-8a56-7ec467597369",
   "metadata": {},
   "source": [
    "## 5. Using Matplotlib\n",
    "Typically you need to create some plots or charts. In order to make plots or charts in Python you will need an external library. The most used library is Matplotlib\n",
    "- Matplotlib is a Python 2D plotting library\n",
    "- You find an overview of the Matplotlib library at https://matplotlib.org\n",
    "- Matplotlib is included with Anaconda Distribution\n",
    "- If you are familiar with MATLAB and basic plotting in MATLAB, using the Matplotlib is very similar\n",
    "- The main difference from MATLAB is that you need to import the library, either the whole library or one or more functions"
   ]
  },
  {
   "cell_type": "markdown",
   "id": "36f3022c-dc5e-41ab-ba12-f4cc858f13b2",
   "metadata": {},
   "source": [
    "Here are some plotting functions that you will use a lot:\n",
    "- plot()\n",
    "- title()\n",
    "- xlabel()\n",
    "- ylabel()\n",
    "- axis()\n",
    "- grid()\n",
    "- subplot()\n",
    "- legend()\n",
    "- show()"
   ]
  },
  {
   "cell_type": "markdown",
   "id": "3f9d9df2-9585-479b-b85b-346507b57668",
   "metadata": {},
   "source": [
    "### Matplotlib Example 1\n",
    "In this example we have two arrays with data. We want to plot x vs. y. We can assume x is a time series and y is the corresponding temperature in degrees Celsius."
   ]
  },
  {
   "cell_type": "code",
   "execution_count": null,
   "id": "dd83a80f-1606-4696-a7e4-4df0fcf2f5fc",
   "metadata": {},
   "outputs": [],
   "source": [
    "import matplotlib.pyplot as plt\n",
    "x = [1, 2, 3, 4, 5, 6, 7, 8, 9, 10]\n",
    "y = [5, 2,4, 4, 8, 7, 4, 8, 10, 9]\n",
    "plt.plot(x,y)\n",
    "plt.xlabel('Time (s)')\n",
    "plt.ylabel('Temperature (degC)')\n",
    "plt.show()"
   ]
  },
  {
   "cell_type": "markdown",
   "id": "86679b69-b753-4339-81ac-a454569aa392",
   "metadata": {},
   "source": [
    "### Matplotlib Example 2 Plotting a Sine Curve"
   ]
  },
  {
   "cell_type": "code",
   "execution_count": null,
   "id": "2456a2c4-d056-450b-8bf8-a8100636159b",
   "metadata": {},
   "outputs": [],
   "source": [
    "import numpy as np\n",
    "import matplotlib.pyplot as plt\n",
    "xstart = 0\n",
    "xstop = 2*np.pi\n",
    "numpoints = 100\n",
    "x = np.linspace(xstart, xstop, numpoints) \n",
    "y = np.sin(x)\n",
    "plt.plot(x, y)\n",
    "plt.xlabel('x')\n",
    "plt.ylabel('y')\n",
    "plt.show()"
   ]
  },
  {
   "cell_type": "markdown",
   "id": "77285d91-b171-4e72-b2c5-90653b314ef4",
   "metadata": {},
   "source": [
    "### Matplotlib Example 3 Sub-Plots\n",
    "- The subplot command enables you to display multiple plots in the same window (Figure)\n",
    "- Typing \"subplot(m,n,p)\" partitions the Figure window into an m-by-n matrix of small subplots"
   ]
  },
  {
   "cell_type": "code",
   "execution_count": null,
   "id": "7e722430-c85c-4127-84c4-5a2959976f8f",
   "metadata": {},
   "outputs": [],
   "source": [
    "import matplotlib.pyplot as plt\n",
    "import numpy as np\n",
    "\n",
    "xstart = 0\n",
    "xstop = 2*np.pi\n",
    "increment = 0.1\n",
    "x = np.arange(xstart,xstop,increment)\n",
    "y = np.sin(x)\n",
    "\n",
    "# Create a 2x1 array of subplots and plot in the first subplot\n",
    "plt.subplot(2,1,1)\n",
    "plt.plot(x, y)\n",
    "plt.title(\"Subplot Example\")\n",
    "plt.xlabel('x')\n",
    "plt.ylabel('sin(x)')\n",
    "\n",
    "# Plot in the second subplot\n",
    "z = np.cos(x)\n",
    "plt.subplot(2,1,2)\n",
    "plt.plot(x, z)\n",
    "plt.xlabel('x')\n",
    "plt.ylabel('cos(x)')\n",
    "plt.show()"
   ]
  },
  {
   "cell_type": "markdown",
   "id": "b721de6e-b9d5-4656-9635-a14a9c43f9a8",
   "metadata": {},
   "source": [
    "## 6. If – Else - Elif (Conditions)\n",
    "In Python you use one of the following or a combination of those:\n",
    "- If\n",
    "- If Else\n",
    "- Elif (known as “Else If“ in most other programming languages)\n",
    "\n",
    "Important: Python uses the colon symbol \":\" and indentation for showing where blocks of code begin and end. Other Programming Languages uses curly brackets {} or Begin ... End"
   ]
  },
  {
   "cell_type": "code",
   "execution_count": null,
   "id": "fa5f12e4-4949-45c6-b856-db48e7536441",
   "metadata": {},
   "outputs": [],
   "source": [
    "a = 8\n",
    "b = 5\n",
    "if a > b:\n",
    "    print(\"a is greater than b\")\n",
    "if b > a:\n",
    "    print(\"b is greater than a\")\n",
    "if a == b:\n",
    "    print(\"a is equal to b\")"
   ]
  },
  {
   "cell_type": "code",
   "execution_count": null,
   "id": "e0ff65a4-3233-458c-b433-8af455d670a3",
   "metadata": {},
   "outputs": [],
   "source": [
    "# If you want to deal with both outcomes, you can use If – Else:\n",
    "a = 5\n",
    "b = 5\n",
    "if a > b:\n",
    "    print(\"a is greater than b\")\n",
    "else:\n",
    "    print(\"b is greater than a or a and b are equal\")"
   ]
  },
  {
   "cell_type": "code",
   "execution_count": null,
   "id": "3f9ca33d-7c9a-4127-a029-d93c80e6fbb3",
   "metadata": {},
   "outputs": [],
   "source": [
    "# If you have more than 2 different conditions you need to check,\n",
    "# you typically use Elif\n",
    "# Note! Python uses \"elif\" not \"elseif\" like many other programming languages do\n",
    "a = 8\n",
    "b = 8\n",
    "if a > b:\n",
    "    print(\"a is greater than b\")\n",
    "elif b > a:\n",
    "    print(\"b is greater than a\")\n",
    "elif a == b:\n",
    "    print(\"a is equal to b\")\n",
    "\n",
    "# If need, you can also add an Else at the end for handling “all other conditions”"
   ]
  },
  {
   "cell_type": "markdown",
   "id": "607cb26d-0b5d-433d-ade4-392a77455c70",
   "metadata": {},
   "source": [
    "## 7. Arrays\n",
    "An array is a special variable, which can hold more than one value at a time. Python does not have built-in support for Arrays, but Python Lists can be used instead.\n",
    "\n",
    "- Example: `data = [1.6, 3.4, 5.5, 9.4]`\n",
    "- Length of an Array (List): `N = len(data)`\n",
    "- Get a specific element (Indexing): `x = data[2]`\n",
    "- Change a specific element: `data[2] = 7.3`\n",
    "- Add a new value to the end of the Array (List): `data.append(11.4)`\n",
    "\n",
    "For more advanced use of Arrays in Python you will have to import a library, like the \n",
    "NumPy library."
   ]
  },
  {
   "cell_type": "code",
   "execution_count": null,
   "id": "4a652bde-085a-47d9-b188-344b0319d4c2",
   "metadata": {},
   "outputs": [],
   "source": [
    "data = list(range(5))    # range is a built-in function that creates a list of integers\n",
    "print(len(data))         # Length of the list; prints 5\n",
    "print(data)              # Prints \"[0, 1, 2, 3, 4]\"\n",
    "print(data[2:4])         # Get a slice from index 2 to 4 (exclusive); prints \"[2, 3]\"\n",
    "print(data[2:])          # Get a slice from index 2 to the end; prints \"[2, 3, 4]\"\n",
    "print(data[:2])          # Get a slice from the start to index 2 (exclusive); prints \"[0, 1]\"\n",
    "print(data[:])           # Get a slice of the whole list; prints [\"0, 1, 2, 3, 4]\"\n",
    "print(data[:-1])         # Slice indices can be negative; prints [\"0, 1, 2, 3]\"\n",
    "data[2:4] = [8, 9]       # Assign a new sublist to a slice\n",
    "print(data)              # Prints \"[0, 1, 8, 9, 4]\""
   ]
  },
  {
   "cell_type": "markdown",
   "id": "d076b570-4e59-4239-a9d0-d5095c5e797d",
   "metadata": {},
   "source": [
    "### Using arrays in functions"
   ]
  },
  {
   "cell_type": "code",
   "execution_count": null,
   "id": "7fc4b0ea-d652-474d-b8ce-ccf4589d7d68",
   "metadata": {},
   "outputs": [],
   "source": [
    "# statistics is a sub library of the python standard library\n",
    "from statistics import *\n",
    "data = [1.6, 3.4, 5.5, 9.4]\n",
    "m = mean(data)\n",
    "sd = stdev(data)\n",
    "datamin = min(data)\n",
    "datamax = max(data)\n",
    "print(m)\n",
    "print(sd)\n",
    "print(datamin)\n",
    "print(datamax)"
   ]
  },
  {
   "cell_type": "markdown",
   "id": "e31f230c-4d7f-4867-aaf6-1c7d3ac7c0c1",
   "metadata": {},
   "source": [
    "## 8. Loops\n",
    "### For Loops\n",
    "A For loop is used for iterating over a sequence. I guess all your programs will use one or more For loops. So if you have not used For loops before, make sure to learn\n",
    "it now."
   ]
  },
  {
   "cell_type": "code",
   "execution_count": null,
   "id": "2bbb869a-d1d3-417d-952a-a68c120c54ec",
   "metadata": {},
   "outputs": [],
   "source": [
    "cars = [\"Ford\", \"Toyota\", \"Tesla\"]\n",
    "for car in cars:\n",
    "    print(car)"
   ]
  },
  {
   "cell_type": "code",
   "execution_count": null,
   "id": "cd22be23-16a7-4419-879d-70c67b532c59",
   "metadata": {},
   "outputs": [],
   "source": [
    "data = [1.6, 3.4, 5.5, 9.4]\n",
    "for x in data:\n",
    "    print (x)"
   ]
  },
  {
   "cell_type": "code",
   "execution_count": null,
   "id": "91230a77-d034-4c41-bf6d-6947a071491a",
   "metadata": {},
   "outputs": [],
   "source": [
    "# The range() function returns a sequence of numbers. It is handy to use in For Loops.\n",
    "N = 10\n",
    "for x in range(N):\n",
    "    print(x)"
   ]
  },
  {
   "cell_type": "code",
   "execution_count": null,
   "id": "7a203cc3-d0de-4a84-a6d2-7e1c1442e4e1",
   "metadata": {},
   "outputs": [],
   "source": [
    "# You can also use the range function like this\n",
    "start = 4\n",
    "stop = 12 #but not including\n",
    "step = 2\n",
    "for x in range(start, stop, step):\n",
    "    print(x)"
   ]
  },
  {
   "cell_type": "code",
   "execution_count": null,
   "id": "40c4f8d4-2a09-4619-b02d-988f0dc9db7f",
   "metadata": {},
   "outputs": [],
   "source": [
    "# For loop to find the Sum and Average/Mean for some given Data\n",
    "data = [1, 5, 6, 3, 12, 3]\n",
    "sum = 0\n",
    "for x in data:\n",
    "    sum = sum + x\n",
    "print(sum)\n",
    "N = len(data)\n",
    "mean = sum/N\n",
    "print(mean)"
   ]
  },
  {
   "cell_type": "markdown",
   "id": "a3692341-46e9-4a80-9205-18be79641a01",
   "metadata": {},
   "source": [
    "### While Loops\n",
    "Example: We want to find for what value of x the function has its minimum value\n",
    "\n",
    "$y(x) = 2 x^2 + 20 x - 22$\n",
    " \n",
    "We can of course find the derivative of the function and find where the derivative is equal to zero:\n",
    "   \n",
    "$ \\frac{dy}{dx} = 4x + 20 = 0$\n",
    "\n",
    "This gives:\n",
    "\n",
    "$x = -5$\n",
    "\n",
    "$y(-5) = 50-100+22 = - 72$"
   ]
  },
  {
   "cell_type": "code",
   "execution_count": null,
   "id": "c085b6cb-702b-4f16-853a-4bbf6a6554bf",
   "metadata": {},
   "outputs": [],
   "source": [
    "# We use Python to iterate through all values of y(x) using a While Loop.\n",
    "# Inside the While Loop we compare y(i) and y(i+1).\n",
    "# If y(i+1) is larger than y(i) we have found the minimum.\n",
    "import numpy as np\n",
    "import matplotlib.pyplot as plt\n",
    "xstart = -20\n",
    "xstop = 20\n",
    "increment = 0.1\n",
    "x = np.arange(xstart,xstop,increment)\n",
    "y = 2 * x*x + 20 * x - 22\n",
    "plt.plot(x,y)\n",
    "plt.grid()\n",
    "i=0\n",
    "while y[i] > y[i+1]:\n",
    "    i = i+1\n",
    "print(x[i])\n",
    "print(y[i])"
   ]
  },
  {
   "cell_type": "markdown",
   "id": "4974d258-7354-4740-acf2-186ab97815c2",
   "metadata": {},
   "source": [
    "### List comprehension\n",
    "When programming, frequently we want to transform one type of data into another. As a simple example, consider the following code that computes square numbers."
   ]
  },
  {
   "cell_type": "code",
   "execution_count": null,
   "id": "46abde3d-bc33-496b-b6c1-fd627aea6496",
   "metadata": {},
   "outputs": [],
   "source": [
    "nums = [0, 1, 2, 3, 4]\n",
    "squares = []\n",
    "for x in nums:\n",
    "    squares.append(x ** 2)\n",
    "print(squares)"
   ]
  },
  {
   "cell_type": "markdown",
   "id": "704e7cd8-5f4b-4fcb-9cbf-5820dc48aca5",
   "metadata": {},
   "source": [
    "You can make this code simpler using a list comprehension."
   ]
  },
  {
   "cell_type": "code",
   "execution_count": null,
   "id": "c94304c5-c097-4c02-99ed-19e589dedead",
   "metadata": {},
   "outputs": [],
   "source": [
    "nums = [0, 1, 2, 3, 4]\n",
    "squares = [x ** 2 for x in nums]\n",
    "print(squares)"
   ]
  },
  {
   "cell_type": "markdown",
   "id": "a42e5edc-87d2-4886-b77b-9cd84edf99da",
   "metadata": {},
   "source": [
    "List comprehensions can also contain conditions."
   ]
  },
  {
   "cell_type": "code",
   "execution_count": null,
   "id": "fef77260-3ce9-412a-a2c3-f57ed3118dbb",
   "metadata": {},
   "outputs": [],
   "source": [
    "nums = [0, 1, 2, 3, 4]\n",
    "even_squares = [x ** 2 for x in nums if x % 2 == 0]\n",
    "print(even_squares)"
   ]
  },
  {
   "cell_type": "markdown",
   "id": "dd510976-a9d1-4f3a-a358-c3f8a6f1bf68",
   "metadata": {},
   "source": [
    "## 9. Create Functions\n",
    "- So far, we have used many of the built-in functions in Python, like print(), plot(), len(), etc.\n",
    "- There are many built-in functions in Python\n",
    "- We can also use functions which are part of many of the additional Python Libraries like NumPy, Matplotlib, etc.\n",
    "- Still, very often we need to make our own functions from scratch"
   ]
  },
  {
   "cell_type": "code",
   "execution_count": null,
   "id": "9c0f606b-06e4-4f8c-9fcc-01d13523c828",
   "metadata": {},
   "outputs": [],
   "source": [
    "# Defining a function\n",
    "def add(x,y):\n",
    "    z=x+y\n",
    "    return z"
   ]
  },
  {
   "cell_type": "markdown",
   "id": "e2889e4c-4044-47bc-87d6-b0e36bdb8cff",
   "metadata": {},
   "source": [
    "Again, you need to use a colon \":\" at the end of line where you define the function.\n",
    "Python uses indentation (spaces) to denoting where blocks of code begin and end. Other Programming Languages uses curly brackets {} or Begin ... End.\n",
    "\n",
    "The return value is stated after the `return` command."
   ]
  },
  {
   "cell_type": "code",
   "execution_count": null,
   "id": "bb23402f-ce4f-4a46-9408-33e09a3e3000",
   "metadata": {},
   "outputs": [],
   "source": [
    "# Using the Function\n",
    "x = 2\n",
    "y = 5\n",
    "z = add(x,y)\n",
    "print(z)"
   ]
  },
  {
   "cell_type": "markdown",
   "id": "64ba96c9-1557-4751-8af4-e844047ecf84",
   "metadata": {},
   "source": [
    "## 10. Examples\n",
    "\n",
    "### Quicksort algorithm\n",
    "Python code is often said to be almost like pseudocode, since it allows you to express very powerful ideas in very few lines of code while being very readable. As an example, here is an implementation of the classic quicksort algorithm in Python that uses arrays and defines a function."
   ]
  },
  {
   "cell_type": "code",
   "execution_count": null,
   "id": "b815b18b-e6ae-438b-b097-885c8448f77a",
   "metadata": {},
   "outputs": [],
   "source": [
    "def quicksort(arr):                                     # Define a function\n",
    "    if len(arr) <= 1:                                   # If only a number is left, return just that number\n",
    "        return arr\n",
    "    pivot = arr[len(arr) // 2]                          # Sort the numbers relative to the middle entry of the array (pivot)\n",
    "    left = [x for x in arr if x < pivot]                # left array for entries smaller than the pivot\n",
    "    middle = [x for x in arr if x == pivot]             # Array entries equal to the pivot\n",
    "    right = [x for x in arr if x > pivot]               # right array for entries entries larger than the pivot\n",
    "    return quicksort(left) + middle + quicksort(right)  # Recursively call quicksort to sort the left and right array\n",
    "\n",
    "print(quicksort([3,6,8,10,1,2,1]))"
   ]
  },
  {
   "cell_type": "code",
   "execution_count": null,
   "id": "2839b71a-ec26-45a6-9c88-453b5ab4c40c",
   "metadata": {},
   "outputs": [],
   "source": []
  }
 ],
 "metadata": {
  "kernelspec": {
   "display_name": "Python 3 (ipykernel)",
   "language": "python",
   "name": "python3"
  },
  "language_info": {
   "codemirror_mode": {
    "name": "ipython",
    "version": 3
   },
   "file_extension": ".py",
   "mimetype": "text/x-python",
   "name": "python",
   "nbconvert_exporter": "python",
   "pygments_lexer": "ipython3",
   "version": "3.8.12"
  }
 },
 "nbformat": 4,
 "nbformat_minor": 5
}
