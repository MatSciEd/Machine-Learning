{
 "cells": [
  {
   "cell_type": "markdown",
   "id": "d48f3a94-b0aa-4ee9-8659-f4f99157e2ca",
   "metadata": {},
   "source": [
    "# NumPy\n",
    "\n",
    "[![Open In Colab](https://colab.research.google.com/assets/colab-badge.svg)](https://colab.research.google.com/github/rhennig/EMA6938/blob/main/Notebooks/2.NumpyExcercise.ipynb)\n",
    "\n",
    "(Based on https://cs231n.github.io/python-numpy-tutorial/)\n",
    "\n",
    "Numpy is the core library for scientific computing in Python. It provides a high-performance multidimensional array object, and tools for working with these arrays. If you are already familiar with MATLAB, you might find this [tutorial](http://wiki.scipy.org/NumPy_for_Matlab_Users) useful to get started with Numpy.\n",
    "\n",
    "To use Numpy, we first need to import the numpy package:"
   ]
  },
  {
   "cell_type": "code",
   "execution_count": 1,
   "id": "4732deb9-e739-43ac-85dc-18840286379c",
   "metadata": {},
   "outputs": [],
   "source": [
    "import numpy as np"
   ]
  },
  {
   "cell_type": "markdown",
   "id": "9bd3c26e-4aa2-498e-a973-41eb7d5d6d6a",
   "metadata": {},
   "source": [
    "## 1. Creating Arrays\n",
    "A numpy array is a grid of values, all of the same type. Numpy arrays, like Python arrays, are indexed starting from zero. The number of dimensions is the rank of the array. The shape of an array is a tuple of integers giving the size of the array along each dimension."
   ]
  },
  {
   "cell_type": "markdown",
   "id": "86f6d1f7-96ba-4827-9f36-5b5a27d012ba",
   "metadata": {},
   "source": [
    "We can initialize numpy arrays from nested Python lists, and access elements using square brackets:"
   ]
  },
  {
   "cell_type": "code",
   "execution_count": 2,
   "id": "6af22848-69cc-4887-89e4-aea9109842b5",
   "metadata": {},
   "outputs": [
    {
     "name": "stdout",
     "output_type": "stream",
     "text": [
      "<class 'numpy.ndarray'> (3,) 1 2 3\n",
      "[5 2 3]\n"
     ]
    }
   ],
   "source": [
    "a = np.array([1, 2, 3])  # Create a rank 1 array\n",
    "print(type(a), a.shape, a[0], a[1], a[2])\n",
    "a[0] = 5                 # Change an element of the array\n",
    "print(a)"
   ]
  },
  {
   "cell_type": "code",
   "execution_count": 3,
   "id": "533fbb70-cb22-4ff4-84f4-f0c584e26fb0",
   "metadata": {},
   "outputs": [
    {
     "name": "stdout",
     "output_type": "stream",
     "text": [
      "[[1 2 3]\n",
      " [4 5 6]]\n"
     ]
    }
   ],
   "source": [
    "b = np.array([[1,2,3],[4,5,6]])   # Create a rank 2 array\n",
    "print(b)"
   ]
  },
  {
   "cell_type": "code",
   "execution_count": 4,
   "id": "a25f907a-4a55-4170-86a0-b7d2a32cd1ad",
   "metadata": {},
   "outputs": [
    {
     "name": "stdout",
     "output_type": "stream",
     "text": [
      "(2, 3)\n",
      "1 2 4\n"
     ]
    }
   ],
   "source": [
    "print(b.shape)\n",
    "print(b[0, 0], b[0, 1], b[1, 0])"
   ]
  },
  {
   "cell_type": "markdown",
   "id": "4bae46d6-c15f-4d47-92a2-526afac5a56e",
   "metadata": {},
   "source": [
    "Numpy also provides many functions to create arrays:"
   ]
  },
  {
   "cell_type": "code",
   "execution_count": 5,
   "id": "3fbc5ad2-487a-4c77-bba2-09577b934803",
   "metadata": {},
   "outputs": [
    {
     "name": "stdout",
     "output_type": "stream",
     "text": [
      "[[0. 0.]\n",
      " [0. 0.]]\n"
     ]
    }
   ],
   "source": [
    "a = np.zeros((2,2))  # Create an array of all zeros\n",
    "print(a)"
   ]
  },
  {
   "cell_type": "code",
   "execution_count": 6,
   "id": "70337192-65d2-4631-a64e-09c441cdbf3d",
   "metadata": {},
   "outputs": [
    {
     "name": "stdout",
     "output_type": "stream",
     "text": [
      "[[7 7]\n",
      " [7 7]]\n"
     ]
    }
   ],
   "source": [
    "c = np.full((2,2), 7) # Create a constant array\n",
    "print(c)"
   ]
  },
  {
   "cell_type": "code",
   "execution_count": 7,
   "id": "1351290f-0014-4508-a14a-2a92798473e5",
   "metadata": {},
   "outputs": [
    {
     "name": "stdout",
     "output_type": "stream",
     "text": [
      "[[1. 0.]\n",
      " [0. 1.]]\n"
     ]
    }
   ],
   "source": [
    "d = np.eye(2)        # Create a 2x2 identity matrix\n",
    "print(d)"
   ]
  },
  {
   "cell_type": "code",
   "execution_count": 8,
   "id": "3372edd1-3b84-402b-872a-8436777dd118",
   "metadata": {},
   "outputs": [
    {
     "name": "stdout",
     "output_type": "stream",
     "text": [
      "[[0.84665641 0.98996553]\n",
      " [0.78205354 0.07444546]]\n"
     ]
    }
   ],
   "source": [
    "e = np.random.random((2,2)) # Create an array filled with random values\n",
    "print(e)"
   ]
  },
  {
   "cell_type": "markdown",
   "id": "9c761e79-e5ca-4621-96ab-c48fcf26c519",
   "metadata": {},
   "source": [
    "## 2. Slicing\n",
    "In addition to accessing array elements one at a time, Python provides concise syntax to access subarrays. This is known as slicing:"
   ]
  },
  {
   "cell_type": "code",
   "execution_count": 9,
   "id": "76154232-4c32-477e-8c1f-75b0697d4cb8",
   "metadata": {},
   "outputs": [
    {
     "name": "stdout",
     "output_type": "stream",
     "text": [
      "[0 1 2 3 4]\n",
      "[2 3]\n",
      "[2 3 4]\n",
      "[0 1 8 9 4]\n"
     ]
    }
   ],
   "source": [
    "nums = np.arange(5)   # arange is a numpy function that creates an array with evenly spaced values within a given interval\n",
    "print(nums)           # Prints \"[0, 1, 2, 3, 4]\"\n",
    "print(nums[2:4])      # Get a slice from index 2 to 4 (exclusive); prints \"[2, 3]\"\n",
    "print(nums[2:])       # Get a slice from index 2 to the end; prints \"[2, 3, 4]\"\n",
    "nums[2:4] = [8, 9]    # Assign a new sublist to a slice\n",
    "print(nums)           # Prints \"[0, 1, 8, 9, 4]\""
   ]
  },
  {
   "cell_type": "markdown",
   "id": "d7f9177e-e24a-4766-af08-bd2c98d697d4",
   "metadata": {},
   "source": [
    "We can also change the shape of arrays:"
   ]
  },
  {
   "cell_type": "code",
   "execution_count": 10,
   "id": "7b37271b-1fe6-428e-a519-c5b494b4a0a3",
   "metadata": {},
   "outputs": [
    {
     "name": "stdout",
     "output_type": "stream",
     "text": [
      "[[ 0  1  2  3]\n",
      " [ 4  5  6  7]\n",
      " [ 8  9 10 11]]\n"
     ]
    }
   ],
   "source": [
    "nums = np.arange(12)\n",
    "print (nums.reshape((3, 4)))"
   ]
  },
  {
   "cell_type": "markdown",
   "id": "2d23908a-83e5-494d-b6c9-5fedb7a49a90",
   "metadata": {},
   "source": [
    "Let's practice:\n",
    "- Use the np.arange function to create a rank 1 numpy array with entries going from 1 to 20\n",
    "- The respape the array into a 2x10 array of rank 2"
   ]
  },
  {
   "cell_type": "code",
   "execution_count": 11,
   "id": "60f8cc44-9b52-4f36-9fc6-7b91b091ade0",
   "metadata": {},
   "outputs": [],
   "source": [
    "# Create the array\n",
    "\n",
    "# Reshape the array\n"
   ]
  },
  {
   "cell_type": "markdown",
   "id": "109c5dd4-0491-4e9c-a41e-ff5f18ef32d4",
   "metadata": {},
   "source": [
    "## 3. Boolean array indexing\n",
    "Boolean array indexing lets you pick out arbitrary elements of an array. Frequently this type of indexing is used to select the elements of an array that satisfy some condition. Here is an example:"
   ]
  },
  {
   "cell_type": "code",
   "execution_count": 12,
   "id": "f9098fe6-d4c0-4c6c-a4be-15b73974a40a",
   "metadata": {},
   "outputs": [
    {
     "name": "stdout",
     "output_type": "stream",
     "text": [
      "[[1 2]\n",
      " [3 4]\n",
      " [5 6]]\n",
      "[[False False]\n",
      " [ True  True]\n",
      " [ True  True]]\n"
     ]
    }
   ],
   "source": [
    "a = np.arange(1,7,1).reshape((3,2))\n",
    "print(a)\n",
    "\n",
    "bool_idx = (a > 2)  # Find the elements of a that are bigger than 2;\n",
    "                    # this returns a numpy array of Booleans of the same\n",
    "                    # shape as a, where each slot of bool_idx tells\n",
    "                    # whether that element of a is > 2.\n",
    "\n",
    "print(bool_idx)"
   ]
  },
  {
   "cell_type": "code",
   "execution_count": 13,
   "id": "f4106aef-7cff-4d37-a59e-b7ee02a8dd40",
   "metadata": {},
   "outputs": [
    {
     "name": "stdout",
     "output_type": "stream",
     "text": [
      "[3 4 5 6]\n"
     ]
    }
   ],
   "source": [
    "# We use boolean array indexing to construct a rank 1 array\n",
    "# consisting of the elements of a corresponding to the True values\n",
    "# of bool_idx\n",
    "print(a[bool_idx])"
   ]
  },
  {
   "cell_type": "code",
   "execution_count": 14,
   "id": "8fbab828-1c6b-4be5-a379-0ba7ca767242",
   "metadata": {},
   "outputs": [
    {
     "name": "stdout",
     "output_type": "stream",
     "text": [
      "[3 4 5 6]\n"
     ]
    }
   ],
   "source": [
    "# We can do all of the above in a single concise statement:\n",
    "print(a[a > 2])"
   ]
  },
  {
   "cell_type": "markdown",
   "id": "def6ff22-b9c5-442d-b672-b51419c018c7",
   "metadata": {},
   "source": [
    "Boolean array indexing is particularly useful to split data sets into training and testing data, which is commonly done in machine learning to accurately estimate the prediction error of a model.\n",
    "\n",
    "We can for example, randomly shuffle the indices of an array and then select a fraction of the entries for training and the remainder for testing."
   ]
  },
  {
   "cell_type": "code",
   "execution_count": 15,
   "id": "a7fe74e9-7f7a-493f-b863-0932777ca75c",
   "metadata": {},
   "outputs": [
    {
     "name": "stdout",
     "output_type": "stream",
     "text": [
      "Index array =         [0 1 2 3 4 5 6 7 8 9]\n",
      "Shuffled index array= [6 3 2 7 9 4 5 1 0 8]\n",
      "Data array = \n",
      " [0.49286661 0.33454777 0.60092002 0.41047255 0.63606798 0.93151659\n",
      " 0.97588557 0.15983686 0.03152332 0.69250434]\n",
      "Random training data = \n",
      " [0.49286661 0.33454777 0.60092002 0.41047255 0.93151659 0.97588557\n",
      " 0.15983686 0.03152332]\n",
      "Random testing data  = \n",
      " [0.63606798 0.69250434]\n"
     ]
    }
   ],
   "source": [
    "index = np.arange(10)         # Creates an index array of size 10\n",
    "print(\"Index array =        \", index)\n",
    "np.random.shuffle(index)      # Randomly shuffles the entries of the array\n",
    "print(\"Shuffled index array=\", index)\n",
    "\n",
    "data = np.random.random(10)   # Create a data array of size 10\n",
    "print(\"Data array = \\n\", data)\n",
    "\n",
    "training_data = data[index<8]\n",
    "testing_data  = data[index>=8]\n",
    "\n",
    "print (\"Random training data = \\n\", training_data)\n",
    "print (\"Random testing data  = \\n\", testing_data)"
   ]
  },
  {
   "cell_type": "markdown",
   "id": "610f6940-218d-4dc5-af84-4ac6735ea6e9",
   "metadata": {},
   "source": [
    "## 4. Array math\n",
    "Basic mathematical functions operate elementwise on arrays, and are available both as operator overloads and as functions in the numpy module:"
   ]
  },
  {
   "cell_type": "code",
   "execution_count": 16,
   "id": "98ab161c-2523-48b6-b1ec-1d00304e2045",
   "metadata": {},
   "outputs": [
    {
     "name": "stdout",
     "output_type": "stream",
     "text": [
      "[[ 6.  8.]\n",
      " [10. 12.]]\n",
      "[[ 6.  8.]\n",
      " [10. 12.]]\n",
      "[[-4. -4.]\n",
      " [-4. -4.]]\n",
      "[[-4. -4.]\n",
      " [-4. -4.]]\n",
      "[[ 5. 12.]\n",
      " [21. 32.]]\n",
      "[[ 5. 12.]\n",
      " [21. 32.]]\n",
      "[[0.2        0.33333333]\n",
      " [0.42857143 0.5       ]]\n",
      "[[0.2        0.33333333]\n",
      " [0.42857143 0.5       ]]\n",
      "[[1.         1.41421356]\n",
      " [1.73205081 2.        ]]\n"
     ]
    }
   ],
   "source": [
    "x = np.array([[1,2],[3,4]], dtype=np.float64)\n",
    "y = np.array([[5,6],[7,8]], dtype=np.float64)\n",
    "\n",
    "# Elementwise sum; both produce the array\n",
    "# [[ 6.0  8.0]\n",
    "#  [10.0 12.0]]\n",
    "print(x + y)\n",
    "print(np.add(x, y))\n",
    "\n",
    "# Elementwise difference; both produce the array\n",
    "# [[-4.0 -4.0]\n",
    "#  [-4.0 -4.0]]\n",
    "print(x - y)\n",
    "print(np.subtract(x, y))\n",
    "\n",
    "# Elementwise product; both produce the array\n",
    "# [[ 5.0 12.0]\n",
    "#  [21.0 32.0]]\n",
    "print(x * y)\n",
    "print(np.multiply(x, y))\n",
    "\n",
    "# Elementwise division; both produce the array\n",
    "# [[ 0.2         0.33333333]\n",
    "#  [ 0.42857143  0.5       ]]\n",
    "print(x / y)\n",
    "print(np.divide(x, y))\n",
    "\n",
    "# Elementwise square root; produces the array\n",
    "# [[ 1.          1.41421356]\n",
    "#  [ 1.73205081  2.        ]]\n",
    "print(np.sqrt(x))"
   ]
  },
  {
   "cell_type": "markdown",
   "id": "46abc5fe-2e90-4258-876b-d2e1ee201867",
   "metadata": {},
   "source": [
    "Note that unlike MATLAB, `*` is elementwise multiplication, not matrix multiplication. We instead use the dot function to compute inner products of vectors, to multiply a vector by a matrix, and to multiply matrices. dot is available both as a function in the numpy module and as an instance method of array objects:"
   ]
  },
  {
   "cell_type": "code",
   "execution_count": 17,
   "id": "bc7a05aa-9e0a-4081-83de-4ffed57e339f",
   "metadata": {},
   "outputs": [
    {
     "name": "stdout",
     "output_type": "stream",
     "text": [
      "219\n",
      "219\n",
      "219\n"
     ]
    }
   ],
   "source": [
    "x = np.array([[1,2],[3,4]])\n",
    "y = np.array([[5,6],[7,8]])\n",
    "\n",
    "v = np.array([9,10])\n",
    "w = np.array([11, 12])\n",
    "\n",
    "# Inner product of vectors; both produce 219\n",
    "print(v.dot(w))\n",
    "print(np.dot(v, w))\n",
    "\n",
    "# You can also use the @ operator which is equivalent to numpy's dot operator.\n",
    "print(v @ w)"
   ]
  },
  {
   "cell_type": "markdown",
   "id": "8c760b60-e45d-411b-a03d-18204655c2fb",
   "metadata": {},
   "source": [
    "## 5. Linear Regression\n",
    "\n",
    "(See https://en.wikipedia.org/wiki/Simple_linear_regression)\n",
    "\n",
    "In linear regression, we fit a linear function to a dataset of $N$ data points $(x_i, y_i)$:\n",
    "$$\n",
    "y = \\alpha + \\beta x.\n",
    "$$\n",
    "\n",
    "To evaluate the coefficients for linear regression for a set , we first evaluate the mean of the $x$ and $y$ values:\n",
    "$$\n",
    "\\bar x = \\frac{1}{N} \\sum_{i=1}^N x_i\n",
    "$$\n",
    "and\n",
    "$$\n",
    "\\bar y = \\frac{1}{N} \\sum_{i=1}^N y_i\n",
    "$$\n",
    "We then calculate the mean deviation of $x$ and the cross-deviation for $x$ and $y$,\n",
    "$$\n",
    "S^2_x = \\sum_{i=1}^N (x_i - \\bar x)^2\n",
    "$$\n",
    "and\n",
    "$$\n",
    "S_{x,y} = \\sum_{i=1}^N (x_i - \\bar x)(y_i - \\bar y).\n",
    "$$\n",
    "\n",
    "Finally, the coefficients for the linear regression equation are given by\n",
    "$$\n",
    "\\beta = \\frac{S_{x,y}}{S_x^2}\n",
    "$$\n",
    "and\n",
    "$$\n",
    "\\alpha = \\bar y - \\beta \\bar x.\n",
    "$$"
   ]
  },
  {
   "cell_type": "code",
   "execution_count": 18,
   "id": "fbb93ba9-1345-45c2-ae8a-63e6e4962acb",
   "metadata": {},
   "outputs": [
    {
     "name": "stdout",
     "output_type": "stream",
     "text": [
      "Estimated coefficients:\n",
      " alpha = 1.2363636363636363         \n",
      " beta =  1.1696969696969697\n"
     ]
    },
    {
     "data": {
      "image/png": "[encoded data removed]",
      "text/plain": [
       "<Figure size 432x288 with 1 Axes>"
      ]
     },
     "metadata": {
      "needs_background": "light"
     },
     "output_type": "display_data"
    }
   ],
   "source": [
    "import matplotlib.pyplot as plt\n",
    " \n",
    "def estimate_coef(x, y):\n",
    "    # number of observations/points\n",
    "    n = np.size(x)\n",
    " \n",
    "    # mean of x and y vector\n",
    "    m_x = np.mean(x)\n",
    "    m_y = np.mean(y)\n",
    " \n",
    "    # calculating cross-deviation and deviation about x\n",
    "    S_xy = np.sum(y*x) - n*m_y*m_x\n",
    "    S_xx = np.sum(x*x) - n*m_x*m_x\n",
    " \n",
    "    # calculating regression coefficients\n",
    "    beta = S_xy / S_xx\n",
    "    alpha = m_y - beta*m_x\n",
    " \n",
    "    return (alpha, beta)\n",
    " \n",
    "def plot_regression_line(x, y, b):\n",
    "    # plotting the actual points as scatter plot\n",
    "    plt.scatter(x, y, color = \"m\",\n",
    "               marker = \"o\", s = 30)\n",
    " \n",
    "    # predicted response vector\n",
    "    y_pred = b[0] + b[1]*x\n",
    " \n",
    "    # plotting the regression line\n",
    "    plt.plot(x, y_pred, color = \"g\")\n",
    " \n",
    "    # putting labels\n",
    "    plt.xlabel('x')\n",
    "    plt.ylabel('y')\n",
    " \n",
    "    # function to show plot\n",
    "    plt.show()\n",
    " \n",
    "\n",
    "# observations / data\n",
    "x = np.array([0, 1, 2, 3, 4, 5, 6, 7, 8, 9])\n",
    "y = np.array([1, 3, 2, 5, 7, 8, 8, 9, 10, 12])\n",
    " \n",
    "# estimating coefficients\n",
    "[alpha, beta] = estimate_coef(x, y)\n",
    "print(\"Estimated coefficients:\\n alpha = {}  \\\n",
    "       \\n beta =  {}\".format(alpha, beta))\n",
    " \n",
    "# plotting regression line\n",
    "plot_regression_line(x, y, [alpha, beta])"
   ]
  },
  {
   "cell_type": "markdown",
   "id": "fd7396e7-d45d-4f1b-bd2d-9966c3efdf9a",
   "metadata": {},
   "source": [
    "The goodness of the linear fit is usually described the *coefficient of determination*, $R^2$, given by\n",
    "$$\n",
    "R = \\frac{(\\bar{xy} - \\bar x \\bar y)^2}{\\left ( \\bar {x^2} - {\\bar x}^2\\right ) \\left ( \\bar {y^2} - {\\bar y}^2\\right )}.\n",
    "$$\n",
    "\n",
    "Extend the code to evaluate $R^2$."
   ]
  },
  {
   "cell_type": "code",
   "execution_count": 19,
   "id": "3800cdd5-c467-4684-b6f8-6ca8e8b72032",
   "metadata": {},
   "outputs": [
    {
     "name": "stdout",
     "output_type": "stream",
     "text": [
      "Estimated coefficients:\n",
      " alpha = 1.2363636363636363         \n",
      " beta  = 1.1696969696969697\n",
      " R2    = 0.9073287150065824\n"
     ]
    },
    {
     "data": {
      "image/png": "[encoded data removed]",
      "text/plain": [
       "<Figure size 432x288 with 1 Axes>"
      ]
     },
     "metadata": {
      "needs_background": "light"
     },
     "output_type": "display_data"
    }
   ],
   "source": [
    "import matplotlib.pyplot as plt\n",
    " \n",
    "def estimate_coef(x, y):\n",
    "    # number of observations/points\n",
    "    n = np.size(x)\n",
    " \n",
    "    # mean of x and y vector\n",
    "    m_x = np.mean(x)\n",
    "    m_y = np.mean(y)\n",
    " \n",
    "    # calculating cross-deviation and deviation about x\n",
    "    S_xy = np.sum((y-m_y)*(x-m_x))\n",
    "    S_xx = np.sum((x-m_x)*(x-m_x))\n",
    " \n",
    "    # calculating regression coefficients\n",
    "    beta = S_xy / S_xx\n",
    "    alpha = m_y - beta*m_x\n",
    " \n",
    "    # Calculate R\n",
    "    m_xy = np.mean(x*y)\n",
    "    m_xx = np.mean(x*x)\n",
    "    m_yy = np.mean(y*y)\n",
    "\n",
    "    R = ((m_xy-m_x*m_y)**2/(m_xx - m_x*m_x)/(m_yy - m_y*m_y))**2\n",
    "\n",
    "    return (alpha, beta, R)\n",
    " \n",
    "def plot_regression_line(x, y, b):\n",
    "    # plotting the actual points as scatter plot\n",
    "    plt.scatter(x, y, color = \"m\",\n",
    "               marker = \"o\", s = 30)\n",
    " \n",
    "    # predicted response vector\n",
    "    y_pred = b[0] + b[1]*x\n",
    " \n",
    "    # plotting the regression line\n",
    "    plt.plot(x, y_pred, color = \"g\")\n",
    " \n",
    "    # putting labels\n",
    "    plt.xlabel('x')\n",
    "    plt.ylabel('y')\n",
    " \n",
    "    # function to show plot\n",
    "    plt.show()\n",
    " \n",
    "\n",
    "# observations / data\n",
    "x = np.array([0, 1, 2, 3, 4, 5, 6, 7, 8, 9])\n",
    "y = np.array([1, 3, 2, 5, 7, 8, 8, 9, 10, 12])\n",
    " \n",
    "# estimating coefficients\n",
    "[alpha, beta, R] = estimate_coef(x, y)\n",
    "print(\"Estimated coefficients:\\n alpha = {}  \\\n",
    "       \\n beta  = {}\\n R2    = {}\".format(alpha, beta, R))\n",
    " \n",
    "# plotting regression line\n",
    "plot_regression_line(x, y, [alpha, beta])"
   ]
  },
  {
   "cell_type": "code",
   "execution_count": null,
   "id": "9a80b95b-c9c1-49b8-b0b0-4161be83120e",
   "metadata": {},
   "outputs": [],
   "source": []
  }
 ],
 "metadata": {
  "kernelspec": {
   "display_name": "Python 3 (ipykernel)",
   "language": "python",
   "name": "python3"
  },
  "language_info": {
   "codemirror_mode": {
    "name": "ipython",
    "version": 3
   },
   "file_extension": ".py",
   "mimetype": "text/x-python",
   "name": "python",
   "nbconvert_exporter": "python",
   "pygments_lexer": "ipython3",
   "version": "3.8.12"
  }
 },
 "nbformat": 4,
 "nbformat_minor": 5
}
