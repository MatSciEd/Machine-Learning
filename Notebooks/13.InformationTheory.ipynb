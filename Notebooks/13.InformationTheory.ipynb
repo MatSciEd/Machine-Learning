{
 "cells": [
  {
   "cell_type": "markdown",
   "id": "842f1aea-7c22-4033-8a91-ccafe00d9976",
   "metadata": {},
   "source": [
    "# 13. Information Theory\n",
    "\n",
    "[![Open In Colab](https://colab.research.google.com/assets/colab-badge.svg)](https://colab.research.google.com/github/rhennig/EMA6938/blob/main/Notebooks/13.InformationTheory.ipynb)\n",
    "\n",
    "Based on https://machinelearningmastery.com/what-is-information-entropy/.\n",
    "\n",
    "Before we delve into classification and decision trees, we will look at information theory and the concepts how we measure information.\n",
    "\n",
    "<img src=\"https://github.com/rhennig/EMA6938/blob/main/Notebooks/Figures/CoinToss.jpg?raw=1\" alt=\"Coin Toss\" align=\"center\" style=\"width:150px; float:right\"/>\n",
    "\n",
    "### Information in a coin flip\n",
    "Consider a flip of a single fair coin. The probability of heads (and tails) is 0.5. We can calculate the information for flipping a head in Python using the `log2()` function."
   ]
  },
  {
   "cell_type": "code",
   "execution_count": 1,
   "id": "13b490a6-156c-45e0-b14d-57a258890b4c",
   "metadata": {},
   "outputs": [
    {
     "name": "stdout",
     "output_type": "stream",
     "text": [
      "p(x)=0.500, information: 1.000 bits\n"
     ]
    }
   ],
   "source": [
    "# Calculate the information for a coin flip\n",
    "from math import log2\n",
    "p = 0.5                                             # Probability of the event\n",
    "h = -log2(p)                                        # Calculate information for event\n",
    "print('p(x)=%.3f, information: %.3f bits' % (p, h)) "
   ]
  },
  {
   "cell_type": "markdown",
   "id": "84a2db16-4c42-4aea-b123-bdf440cee3c5",
   "metadata": {},
   "source": [
    "Running the example prints shows that for the event with a probability of 50% the information content is 1 bit. If the same coin was flipped $n$ times, then the information for a specific sequence of flips would be $n$ bits.\n",
    "\n",
    "<img src=\"https://github.com/rhennig/EMA6938/blob/main/Notebooks/Figures/InformationEntropy.jpg?raw=1\" alt=\"Information Entropy\" align=\"center\" style=\"width:300px; float:center\"/>\n",
    "\n",
    "Consider if the coin was not fair and the probability of a head was instead 10% (0.1). What would the information be for this event?\n",
    "\n",
    "The event would be more rare and would require more than 3 bits of information."
   ]
  },
  {
   "cell_type": "markdown",
   "id": "5c124cc2-22d9-43c1-a5de-af533fe3a239",
   "metadata": {},
   "source": [
    "### Information in rolling a dice\n",
    "\n",
    "<img src=\"https://github.com/rhennig/EMA6938/blob/main/Notebooks/Figures/Dice.jpg?raw=1\" alt=\"Dice\" align=\"center\" style=\"width:150px; float:right\"/>\n",
    "\n",
    "We can also explore the information in a single roll of a fair six-sided dice, e.g., the information in rolling a 6.\n",
    "\n",
    "We know the probability of rolling any number is 1/6, which is a smaller number than 1/2 for a coin flip, therefore we would expect more surprise or a larger amount of information."
   ]
  },
  {
   "cell_type": "code",
   "execution_count": 2,
   "id": "5ad52ae0-966f-44b3-a143-eb7d5e362213",
   "metadata": {},
   "outputs": [
    {
     "name": "stdout",
     "output_type": "stream",
     "text": [
      "p(x)=0.167, information: 2.585 bits\n"
     ]
    }
   ],
   "source": [
    "# Calculate the information for a dice roll\n",
    "from math import log2\n",
    "p = 1.0 / 6.0                                       # Probability of the event\n",
    "h = -log2(p)                                        # Calculate information for event\n",
    "print('p(x)=%.3f, information: %.3f bits' % (p, h)) # Print the result"
   ]
  },
  {
   "cell_type": "markdown",
   "id": "32881555-a4c4-45c4-b439-e4338ce94e47",
   "metadata": {},
   "source": [
    "Our intuition is correct and, indeed, there is more than 2.5 bits of information in a single roll of a fair dice."
   ]
  },
  {
   "cell_type": "markdown",
   "id": "21a7dafd-ea4d-4fe6-9ae4-89465d4ef4d2",
   "metadata": {},
   "source": [
    "Other logarithms can be used instead of the base 2. For example, it is also common to use the natural logarithm that uses base $e$ (Euler’s number) in calculating the information, in which case the units are referred to as \"nats.\" When using base 10, the units are called \"hartley\" (Hart), \"ban\" or \"dit.\"\n",
    "\n",
    "We can further develop the intuition that low probability events have more information.\n",
    "\n",
    "To make this clear, we can calculate the information for probabilities between 0 and 1 and plot the corresponding information for each. We can then create a plot of probability vs information. We would expect the plot to curve downward from low probabilities with high information to high probabilities with low information."
   ]
  },
  {
   "cell_type": "code",
   "execution_count": 3,
   "id": "783a0ff0-7fb4-40ec-93fe-78ef9e98215a",
   "metadata": {},
   "outputs": [
    {
     "data": {
      "image/png": "[encoded data removed]",
      "text/plain": [
       "<Figure size 432x288 with 1 Axes>"
      ]
     },
     "metadata": {
      "needs_background": "light"
     },
     "output_type": "display_data"
    }
   ],
   "source": [
    "# Compare probability vs information entropy\n",
    "from math import log2\n",
    "import matplotlib.pyplot as plt\n",
    "plt.rc('xtick', labelsize=12) \n",
    "plt.rc('ytick', labelsize=12)\n",
    "\n",
    "# List of probabilities\n",
    "probs = [0.1, 0.2, 0.3, 0.4, 0.5, 0.6, 0.7, 0.8, 0.9, 1.0]\n",
    "\n",
    "# Calculate information\n",
    "info = [-log2(p) for p in probs]\n",
    "\n",
    "# Plot probability vs information\n",
    "plt.plot(probs, info, marker='.')\n",
    "plt.title('Information vs. Probability', fontsize=20)\n",
    "plt.xlabel('Probability', fontsize=18)\n",
    "plt.ylabel('Information', fontsize=18)\n",
    "plt.show()"
   ]
  },
  {
   "cell_type": "markdown",
   "id": "f9d3e067-9042-4b70-8e7e-0a05d9835f59",
   "metadata": {},
   "source": [
    "Low probability events are more surprising and carry more information, and the complement of high probability events carry less information.\n",
    "\n",
    "This relationship is not linear, it is in-fact slightly sub-linear. This makes sense given the use of the log function."
   ]
  },
  {
   "cell_type": "markdown",
   "id": "7378bb4a-39e5-4569-8246-b24b6252e0ed",
   "metadata": {},
   "source": [
    "### Calculate the Entropy for a Random Variable\n",
    "\n",
    "We can also quantify how much information there is in a random variable.\n",
    "\n",
    "For example, if we wanted to calculate the information for a random variable $X$ with probability distribution $P(X)$. Calculating the information for a random variable is the same as calculating the information for the probability distribution of the events for the random variable.\n",
    "\n",
    "Calculating the information for a random variable is called **information entropy**, **Shannon entropy**, or simply **entropy**. It is related to the idea of entropy from physics by analogy, in that both are concerned with uncertainty.\n",
    "\n",
    "The intuition for entropy is that it is the average number of bits required to represent or transmit an event drawn from the probability distribution for the random variable.\n",
    "\n",
    "The entropy for a random variable $X$ with $k \\in K$ discrete states as follows:\n",
    "$$\n",
    "H(X) = - \\sum_{k \\in K} P(k) \\, \\log_2 \\left ( P(k) \\right ).\n",
    "$$"
   ]
  },
  {
   "cell_type": "markdown",
   "id": "6bee2ac0-cbb7-4469-93cf-a987cf4271e3",
   "metadata": {},
   "source": [
    "This equation should remind you of the **entropy of mixing for an ideal alloy**. The entropy is the negative of the sum of the probability of each event multiplied by the log of the probability of each event.\n",
    "\n",
    "Like information, the `log()` function uses base-2 and the units are bits.\n",
    "\n",
    "The lowest entropy is calculated for a random variable that has a single event with a probability of 1.0, a certainty. The largest entropy for a random variable will be if all events are equally likely.\n",
    "\n",
    "We can consider a roll of a fair die and calculate the entropy for the variable. Each outcome has the same probability of 1/6, therefore it is a uniform probability distribution. We therefore would expect the average information to be the same information for a single event calculated in the previous section."
   ]
  },
  {
   "cell_type": "code",
   "execution_count": 4,
   "id": "aacb8a42-0d7c-4276-97d6-fd89422e932e",
   "metadata": {},
   "outputs": [
    {
     "name": "stdout",
     "output_type": "stream",
     "text": [
      "entropy: 2.585 bits\n"
     ]
    }
   ],
   "source": [
    "# Calculate the entropy for a dice roll\n",
    "from math import log2\n",
    "n = 6                                            # The number of events\n",
    "p = 1.0/n                                        # Probability of one event\n",
    "entropy = -sum([p * log2(p) for _ in range(n)])  # Calculate entropy\n",
    "print('entropy: %.3f bits' % entropy)            # Print the result"
   ]
  },
  {
   "cell_type": "markdown",
   "id": "58935792-31b9-4f10-abfe-a83e8879064e",
   "metadata": {},
   "source": [
    "The entropy is the same as the information for a single outcome. This makes sense, as the average information is the same since all outcomes are equally likely.\n",
    "\n",
    "If we know the probability for each event, we can use the `entropy()` SciPy function to calculate the entropy directly."
   ]
  },
  {
   "cell_type": "code",
   "execution_count": 5,
   "id": "834331bc-bc34-4f0f-bfd9-ee63e5df8256",
   "metadata": {},
   "outputs": [
    {
     "name": "stdout",
     "output_type": "stream",
     "text": [
      "entropy: 2.585 bits\n"
     ]
    }
   ],
   "source": [
    "# Calculate the entropy for a dice roll\n",
    "from scipy.stats import entropy\n",
    "p = [1/6, 1/6, 1/6, 1/6, 1/6, 1/6]      # discrete probabilities\n",
    "e = entropy(p, base=2)                  # calculate entropy\n",
    "print('entropy: %.3f bits' % e)         # print the result"
   ]
  },
  {
   "cell_type": "markdown",
   "id": "bacd10cc-c9c3-4af4-9362-3a5c726f23c7",
   "metadata": {},
   "source": [
    "We can further develop the intuition for entropy of probability distributions.\n",
    "\n",
    "Recall that entropy is the number of bits required to represent a randomly drawn even from the distribution, e.g., an average event. We can explore this for a simple distribution with two events, like a coin flip, but explore different probabilities for these two events and calculate the entropy for each.\n",
    "\n",
    "In the case where one event dominates, such as a skewed probability distribution, then there is less surprise and the distribution will have a lower entropy. In the case where no event dominates another, such as equal or approximately equal probability distribution, then we would expect larger or maximum entropy.\n",
    "\n",
    "- **Skewed Probability Distribution** (unsurprising): Low entropy.\n",
    "- **Balanced Probability Distribution** (surprising): High entropy.\n",
    "\n",
    "If we transition from skewed to equal probability of events in the distribution we would expect entropy to start low and increase, specifically from the lowest entropy of 0.0 for events with impossibility/certainty (probability of 0 and 1 respectively) to the largest entropy of 1.0 for events with equal probability.\n",
    "\n",
    "The example below implements this, creating each probability distribution in this transition, calculating the entropy for each and plotting the result."
   ]
  },
  {
   "cell_type": "code",
   "execution_count": 6,
   "id": "85edf097-d9e8-4662-907f-684ccc28bde5",
   "metadata": {},
   "outputs": [
    {
     "data": {
      "image/png": "[encoded data removed]",
      "text/plain": [
       "<Figure size 432x288 with 1 Axes>"
      ]
     },
     "metadata": {
      "needs_background": "light"
     },
     "output_type": "display_data"
    }
   ],
   "source": [
    "# Compare probability distributions vs entropy\n",
    "from math import log2\n",
    "from matplotlib import pyplot\n",
    "\n",
    "def entropy(events, ets=1e-15):                      # Calculate entropy\n",
    "\treturn -sum([p * log2(p + ets) for p in events])\n",
    "\n",
    "probs = [0.0, 0.1, 0.2, 0.3, 0.4, 0.5]               # Define probabilities\n",
    "dists = [[p, 1.0 - p] for p in probs]                # Create probability distribution\n",
    "\n",
    "ents = [entropy(d) for d in dists]                   # Calculate entropy for each distribution\n",
    "\n",
    "pyplot.plot(probs, ents, marker='.')                 # Plot probability distribution vs entropy\n",
    "pyplot.title('Entropy vs. Probability Distribution', fontsize=18)\n",
    "pyplot.xticks(probs, [str(d) for d in dists])\n",
    "pyplot.xlabel('Probability Distribution', fontsize=16)\n",
    "pyplot.ylabel('Entropy (bits)', fontsize=16)\n",
    "pyplot.show()"
   ]
  },
  {
   "cell_type": "markdown",
   "id": "67a271bd-0dee-4390-987d-0839e30871c1",
   "metadata": {},
   "source": [
    "The example creates the 6 probability distributions from [0,1] to [0.5,0.5] probabilities.\n",
    "\n",
    "As expected, we see that as the distribution of events changes from skewed to balanced, the entropy increases from minimal to maximum values. That is, if the average event drawn from a probability distribution is not surprising we get a lower entropy, whereas if it is surprising, we get a larger entropy.\n",
    "\n",
    "We can see that the transition is not linear, that it is super linear. We can also see that this curve is symmetrical if we continued the transition to [0.6, 0.4] and onward to [1.0, 0.0] for the two events, forming an inverted parabola-shape.\n",
    "\n",
    "Note we had to add a tiny value to the probability when calculating the entropy to avoid calculating the log of a zero value, which would result in an infinity on not a number."
   ]
  },
  {
   "cell_type": "markdown",
   "id": "b2dc3f77-f71c-4c9d-bfa6-39359f39c2f5",
   "metadata": {},
   "source": [
    "Calculating the entropy for a random variable provides the basis for other measures such as **mutual information** (information gain).\n",
    "\n",
    "Entropy also provides the basis for calculating the difference between two probability distributions with **cross-entropy** and the **KL-divergence**."
   ]
  },
  {
   "cell_type": "code",
   "execution_count": null,
   "id": "2c2b293e-5184-4913-b230-2ef083b53890",
   "metadata": {},
   "outputs": [],
   "source": []
  }
 ],
 "metadata": {
  "kernelspec": {
   "display_name": "Python 3 (ipykernel)",
   "language": "python",
   "name": "python3"
  },
  "language_info": {
   "codemirror_mode": {
    "name": "ipython",
    "version": 3
   },
   "file_extension": ".py",
   "mimetype": "text/x-python",
   "name": "python",
   "nbconvert_exporter": "python",
   "pygments_lexer": "ipython3",
   "version": "3.8.12"
  }
 },
 "nbformat": 4,
 "nbformat_minor": 5
}
