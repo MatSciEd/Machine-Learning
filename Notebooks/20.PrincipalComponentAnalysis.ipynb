{
 "cells": [
  {
   "cell_type": "markdown",
   "id": "21d1026e-5bbd-4a75-a44a-50a7202bf150",
   "metadata": {},
   "source": [
    "# 20. Principal Component Analysis\n",
    "\n",
    "[![Open In Colab](https://colab.research.google.com/assets/colab-badge.svg)](https://colab.research.google.com/github/rhennig/EMA6938/blob/main/Notebooks/20.PrincipalComponentAnalysis.ipynb)\n",
    "\n",
    "(Based on https://jakevdp.github.io/PythonDataScienceHandbook/05.09-principal-component-analysis.html)\n",
    "\n",
    "In this notebook, we will learn about an unsupervised machine learning method for dimensionality reduction, principal component analysis (PCA).\n",
    "\n",
    "### Introduction\n",
    "\n",
    "- PCA is an **unsupervised linear dimensionality reduction technique** that can be utilized for extracting information from a high-dimensional space by projecting it into a lower-dimensional sub-space.\n",
    "\n",
    "- It tries to preserve the essential parts that have more variation of the data and remove the non-essential parts with fewer variation.\n",
    "\n",
    "- Dimensions are nothing but features that represent the data. For example, the atomic descriptors we used already included the atomic number, atomic and ionic radii, electronegetivity, etc. Each of these descriptor components is a dimension. Note: Features, Dimensions, and Variables are all referring to the same thing. You will find them being used interchangeably.\n",
    "\n",
    "- You can use PCA to cluster similar data points based on the feature correlation between them.\n",
    "\n",
    "Definition: PCA is a statistical procedure that uses an orthogonal transformation to convert a set of observations of possibly correlated numerical variables into a set of values of linearly uncorrelated variables called principal components."
   ]
  },
  {
   "cell_type": "markdown",
   "id": "704493bc-d673-4a06-95bd-93a72ff9ce97",
   "metadata": {},
   "source": [
    "### Five Steps of PCA\n",
    "\n",
    "Principal component analysis can be broken down into five steps. We will go through each step, explaining what PCA does and discuss the underlying mathematical concepts such as standardization, covariance, eigenvectors and eigenvalues without focusing on how to compute them.\n",
    "\n",
    "1. Standardize the range of continuous initial variables\n",
    "2. Compute the covariance matrix to identify correlations\n",
    "3. Compute the eigenvectors and eigenvalues of the covariance matrix to identify the principal components\n",
    "4. Create a feature vector to decide which principal components to keep\n",
    "5. Recast the data along the principal components axes"
   ]
  },
  {
   "cell_type": "markdown",
   "id": "0e2a922d-a7fa-4bde-aacc-57666eb4087d",
   "metadata": {},
   "source": [
    "PCA is easiest to understand and visualize by looking at a two-dimensional dataset."
   ]
  },
  {
   "cell_type": "code",
   "execution_count": 1,
   "id": "e2252b5d-fab0-44e2-bbba-3036de74b960",
   "metadata": {},
   "outputs": [
    {
     "data": {
      "image/png": "[encoded data removed]",
      "text/plain": [
       "<Figure size 720x432 with 1 Axes>"
      ]
     },
     "metadata": {
      "needs_background": "light"
     },
     "output_type": "display_data"
    }
   ],
   "source": [
    "# Import relevant libraries\n",
    "import numpy as np\n",
    "import matplotlib.pyplot as plt\n",
    "plt.rc('xtick', labelsize=16) \n",
    "plt.rc('ytick', labelsize=16)\n",
    "\n",
    "rng = np.random.RandomState(1)\n",
    "X = np.dot(rng.rand(2, 2), rng.randn(2, 200)).T\n",
    "\n",
    "plt.figure(figsize=(10, 6))\n",
    "plt.scatter(X[:, 0], X[:, 1], color='blue')\n",
    "plt.xlabel('x', fontsize=18)\n",
    "plt.ylabel('y', fontsize=18)\n",
    "plt.axis('equal');"
   ]
  },
  {
   "cell_type": "markdown",
   "id": "b152a3a5-5142-4075-9f9d-e40071ff0aa9",
   "metadata": {},
   "source": [
    "It is apparent that there is a nearly linear relationship between the $x$ and $y$ variables. This is reminiscent of the linear regression data we explored previously, but the problem setting here is slightly different. Rather than attempting to predict the $y$ values from the $x$ values, the unsupervised learning problem attempts to learn about the relationship between the $x$ and $y$ values.\n",
    "\n",
    "In principal component analysis, this relationship is quantified by finding a list of the principal axes in the data, and using those axes to describe the dataset."
   ]
  },
  {
   "cell_type": "markdown",
   "id": "69112c6f-7f48-4f89-8efc-fc992994710c",
   "metadata": {},
   "source": [
    "### Step 1. Standardization\n",
    "\n",
    "The goal is to standardize the range of the variables so that each one of them contributes equally to the analysis.\n",
    "\n",
    "PCA, is sensitive to the variances of the initial variables. If there are large differences between the ranges of the different features, those with larger ranges will dominate over those with small ranges.\n",
    "\n",
    "For example, the $x$ values have a much larger range than the $y$ values. Hence the $x$ values would dominate over the $y$ values, which will lead to biased results. So, transforming the data to comparable scales can prevent this problem.\n",
    "\n",
    "Mathematically, this can be done by subtracting the mean and dividing by the standard deviation for each value of each variable.\n",
    "$$\n",
    "x_\\mathrm{standardized} = \\frac{x - \\mathrm{mean}}{\\mathrm{standard\\,\\,deviation}}\n",
    "$$"
   ]
  },
  {
   "cell_type": "code",
   "execution_count": 2,
   "id": "42ac13c6-e651-404a-9115-0dee73c074a0",
   "metadata": {},
   "outputs": [
    {
     "name": "stdout",
     "output_type": "stream",
     "text": [
      "[[-0.79765231 -0.52797714]\n",
      " [ 1.12257896  1.89258326]\n",
      " [-0.76525502 -1.26763379]\n",
      " [-2.73817694 -1.68109939]\n",
      " [-0.59924629 -1.57387245]]\n"
     ]
    }
   ],
   "source": [
    "# Standardize each column\n",
    "X_std = (X - X.mean(axis=0)) / X.std(axis=0, ddof=1)\n",
    "print(X_std[:5])"
   ]
  },
  {
   "cell_type": "code",
   "execution_count": 3,
   "id": "5bfae647-f079-4d19-97da-aebd0c477eaa",
   "metadata": {},
   "outputs": [
    {
     "data": {
      "text/plain": [
       "array([[-0.79965395, -0.52930205],\n",
       "       [ 1.12539597,  1.89733254],\n",
       "       [-0.76717536, -1.27081481],\n",
       "       [-2.74504816, -1.68531797],\n",
       "       [-0.60075004, -1.57782195]])"
      ]
     },
     "execution_count": 3,
     "metadata": {},
     "output_type": "execute_result"
    }
   ],
   "source": [
    "# Alternatively, we can use the sklearn's StandardScaler\n",
    "# The results are slighly different because sklearn\n",
    "# uses a normalization of N and not N-1 for the standard deviation.\n",
    "# We can use the same normalization above, if we pass the parameter ddof=0 to std()\n",
    "from sklearn.preprocessing import StandardScaler\n",
    "\n",
    "scaler = StandardScaler()\n",
    "scaler.fit(X)\n",
    "scaler.transform(X)[:5]"
   ]
  },
  {
   "cell_type": "markdown",
   "id": "c74bc1f9-9053-4758-8537-99581d2a1594",
   "metadata": {},
   "source": [
    "### Step 2. Calculation of the Covariance Matrix\n",
    "\n",
    "The covariance matrix determines if pairs of the input variables are correlated. The covariance matrix is a $p \\times p$ symmetric matrix (where $p$ is the number of dimensions). The entries are the covariances associated with all possible pairs of the initial variables. For example, for a 3-dimensional data set with 3 variables $x$, $y$, and $z$, the covariance matrix is a 3×3 matrix of this from:\n",
    "$$\n",
    "\\begin{bmatrix}\n",
    "   \\mathrm{Cov}(x,x) & \\mathrm{Cov}(x,y) & \\mathrm{Cov}(x,z) \\\\\n",
    "   \\mathrm{Cov}(y,x) & \\mathrm{Cov}(y,y) & \\mathrm{Cov}(y,z) \\\\\n",
    "   \\mathrm{Cov}(z,x) & \\mathrm{Cov}(z,y) & \\mathrm{Cov}(z,z) \\\\\n",
    "\\end{bmatrix}\n",
    "$$"
   ]
  },
  {
   "cell_type": "code",
   "execution_count": 4,
   "id": "2db1415a-562a-4e28-b572-7cb34860d602",
   "metadata": {},
   "outputs": [
    {
     "name": "stdout",
     "output_type": "stream",
     "text": [
      "Covariance matrix \n",
      "[[1.         0.88938995]\n",
      " [0.88938995 1.        ]]\n",
      "\n",
      "Covariance matrix using numpy.cov\n",
      "[[1.         0.88938995]\n",
      " [0.88938995 1.        ]]\n"
     ]
    }
   ],
   "source": [
    "# Calculate the covariance matrix\n",
    "mean_vec = np.mean(X_std, axis=0)\n",
    "Covariance = (X_std - mean_vec).T.dot((X_std - mean_vec)) / (X_std.shape[0]-1)\n",
    "print('Covariance matrix \\n%s' %Covariance)\n",
    "\n",
    "# Alternatively, we can use the numpy function cov\n",
    "print('\\nCovariance matrix using numpy.cov\\n%s' %np.cov(X_std.T))"
   ]
  },
  {
   "cell_type": "markdown",
   "id": "4c7b975e-886f-4f45-9a2a-dfec3d997865",
   "metadata": {},
   "source": [
    "Since the covariance of a variable with itself is its variance (Cov(a,a)=Var(a)), in the main diagonal (Top left to bottom right) we actually have the variances of each initial variable. And since the covariance is commutative (Cov(a,b)=Cov(b,a)), the entries of the covariance matrix are symmetric with respect to the main diagonal, which means that the upper and the lower triangular portions are equal:\n",
    "$$\n",
    "\\begin{bmatrix}\n",
    "   \\mathrm{Var}(x,x) & \\mathrm{Cov}(x,y) & \\mathrm{Cov}(x,z) \\\\\n",
    "   \\mathrm{Cov}(x,y) & \\mathrm{Var}(y,y) & \\mathrm{Cov}(y,z) \\\\\n",
    "   \\mathrm{Cov}(x,z) & \\mathrm{Cov}(y,z) & \\mathrm{Var}(z,z) \\\\\n",
    "\\end{bmatrix}\n",
    "$$\n",
    "\n",
    "The sign of the covariance entries determine the correlation:\n",
    "\n",
    "- If positive: The two variables increase or decrease together (correlated)\n",
    "- If negative: One increases when the other decreases (inversely correlated)\n",
    "- If zero: The two variables are uncorrelated"
   ]
  },
  {
   "cell_type": "markdown",
   "id": "6d5a2733-c306-4d02-b818-f6744bb549ba",
   "metadata": {},
   "source": [
    "### Step 3. Compute the Eigenvectors and Eigenvalues of the Covariance Matrix\n",
    "\n",
    "Eigenvectors and eigenvalues are the linear algebra concepts that we need to compute from the covariance matrix in order to determine the principal components of the data.\n",
    "\n",
    "What do we mean by principal components?\n",
    "\n",
    "- Principal components are new variables that are constructed as linear combinations or mixtures of the initial variables.\n",
    "- These combinations are done in such a way that the new variables (i.e., principal components) are uncorrelated and most of the information within the initial variables is squeezed or compressed into the first components.\n",
    "- So, the idea is 10-dimensional data gives you 10 principal components, but the PCA tries to put maximum possible information in the first component, then maximum remaining information in the second and so on, until having something like shown in the scree plot below."
   ]
  },
  {
   "cell_type": "code",
   "execution_count": 5,
   "id": "ccb3c2b0-cad6-487c-880b-7686bf342ee1",
   "metadata": {},
   "outputs": [
    {
     "name": "stdout",
     "output_type": "stream",
     "text": [
      "[1.88938995 0.11061005]\n",
      "[[ 0.70710678 -0.70710678]\n",
      " [ 0.70710678  0.70710678]]\n"
     ]
    }
   ],
   "source": [
    "eigenvalues,eigenvectors = np.linalg.eig(Covariance)\n",
    "print(eigenvalues)\n",
    "print(eigenvectors)"
   ]
  },
  {
   "cell_type": "code",
   "execution_count": 6,
   "id": "a5221044-4fd4-4e60-8fe2-8764e07b3a0d",
   "metadata": {},
   "outputs": [
    {
     "name": "stdout",
     "output_type": "stream",
     "text": [
      "[0.94469498 1.        ]\n"
     ]
    },
    {
     "data": {
      "image/png": "[encoded data removed]",
      "text/plain": [
       "<Figure size 216x432 with 1 Axes>"
      ]
     },
     "metadata": {
      "needs_background": "light"
     },
     "output_type": "display_data"
    }
   ],
   "source": [
    "# Calculating the explained variance on each of components\n",
    "\n",
    "variance_explained = np.cumsum(eigenvalues)/np.sum(eigenvalues)\n",
    "        \n",
    "print(variance_explained)\n",
    "\n",
    "plt.figure(figsize=(3, 6))\n",
    "plt.bar(np.arange(len(eigenvalues)),100*eigenvalues/np.sum(eigenvalues))\n",
    "plt.plot(100*variance_explained, color='orange', label='Cumulative')\n",
    "plt.xlabel('Principal components', fontsize=18)\n",
    "plt.ylabel('Percentage of explained variance', fontsize=18)\n",
    "plt.rc('xtick', labelsize=16) \n",
    "plt.rc('ytick', labelsize=16)\n",
    "plt.legend(fontsize=12)\n",
    "plt.show()"
   ]
  },
  {
   "cell_type": "markdown",
   "id": "f85f003d-4bb0-42b6-97e6-b9ac835f4d76",
   "metadata": {},
   "source": [
    "### How PCA Constructs the Principal Components\n",
    "\n",
    "There are as many principal components as there are variables in the data. Principal components are constructed in such a manner that the first principal component accounts for the **largest possible variance** in the data set.\n",
    "\n",
    "For our simple 2D dataset, can we guess the first principal component.  It is a line going from the lower left to the upper right. It matches the blue marks because it goes through the origin and it’s the line in which the projection of the points (red dots) is the most spread out. Or mathematically speaking, it’s the line that maximizes the variance (the average of the squared distances from the projected points (red dots) to the origin)."
   ]
  },
  {
   "cell_type": "markdown",
   "id": "ae4c9fea-5630-46e3-82da-771cf3a5c236",
   "metadata": {},
   "source": [
    "### Step 5. Create a Feature Vector\n",
    "\n",
    "We need to decide which principal components to keep.\n",
    "\n",
    "Computing the eigenvectors and ordering them by their eigenvalues in descending order, allow us to find the principal components in order of significance. In this step, what we do is, to choose whether to keep all these components or discard those of lesser significance (of low eigenvalues), and form with the remaining ones a matrix of vectors that we call **feature vector**.\n",
    "\n",
    "So, the feature vector is simply a matrix that has as columns the eigenvectors of the components that we decide to keep. This makes it the first step towards dimensionality reduction, because if we choose to keep only p eigenvectors (components) out of n, the final data set will have only p dimensions."
   ]
  },
  {
   "cell_type": "code",
   "execution_count": 12,
   "id": "ec3f3b0d-fc99-4d53-bc74-95d092f5bcda",
   "metadata": {},
   "outputs": [
    {
     "name": "stdout",
     "output_type": "stream",
     "text": [
      "[[ 0.70710678  0.70710678]\n",
      " [-0.70710678  0.70710678]]\n"
     ]
    }
   ],
   "source": [
    "feature_vectors = (eigenvectors.T[:][:2])\n",
    "print(feature_vectors)"
   ]
  },
  {
   "cell_type": "markdown",
   "id": "52f07223-a972-4a3c-b36c-ee5e5a42dff3",
   "metadata": {},
   "source": [
    "### Step 5. Recast the data along the principal component axes\n",
    "\n",
    "In the previous steps, apart from standardization, we did not make any changes to the data. We just selected the principal components and formed the feature vector. The input data set remained always in terms of the original axes (i.e, in terms of the initial variables).\n",
    "\n",
    "In this last step, we use the feature vector formed from the eigenvectors of the covariance matrix, to reorient the data from the original axes to the ones represented by the principal components (hence the name Principal Components Analysis). This can be done by multiplying the transpose of the original data set by the transpose of the feature vector.\n",
    "$$\n",
    "\\text{PCA_Dataset = Standardized Original Dataset} \\times \\text{Feature_vectors}^\\mathrm{T}\n",
    "$$"
   ]
  },
  {
   "cell_type": "code",
   "execution_count": 13,
   "id": "78e24a9a-73c3-4c73-a499-ffbaedd4b788",
   "metadata": {},
   "outputs": [
    {
     "name": "stdout",
     "output_type": "stream",
     "text": [
      "[[-0.93736157  0.19068914]\n",
      " [ 2.13204165  0.54447527]\n",
      " [-1.43746946 -0.35523544]\n",
      " [-3.12490026  0.7474667 ]\n",
      " [-1.536627   -0.68916477]]\n"
     ]
    }
   ],
   "source": [
    "X_pca = X_std.dot(feature_vectors.T)\n",
    "print(X_pca[:5])"
   ]
  },
  {
   "cell_type": "code",
   "execution_count": 14,
   "id": "b5b061b0-5a7b-41c2-8d82-9cd104934ef4",
   "metadata": {},
   "outputs": [
    {
     "data": {
      "image/png": "[encoded data removed]",
      "text/plain": [
       "<Figure size 720x432 with 1 Axes>"
      ]
     },
     "metadata": {
      "needs_background": "light"
     },
     "output_type": "display_data"
    }
   ],
   "source": [
    "def draw_vector(v0, v1, ax=None):\n",
    "    ax = ax or plt.gca()\n",
    "    arrowprops=dict(arrowstyle='->',\n",
    "                    linewidth=2,\n",
    "                    shrinkA=0, shrinkB=0, color='blue')\n",
    "    ax.annotate('', v1, v0, arrowprops=arrowprops)\n",
    "\n",
    "# plot data\n",
    "plt.figure(figsize=(10, 6))\n",
    "plt.scatter(X_std[:, 0], X_std[:, 1], alpha=0.4)\n",
    "for length, vector in zip(eigenvalues, eigenvectors.T):\n",
    "    v = vector * 3 * np.sqrt(length)\n",
    "    draw_vector([0,0], v)\n",
    "plt.xlabel('x', fontsize=18)\n",
    "plt.ylabel('y', fontsize=18)\n",
    "plt.axis('equal')\n",
    "plt.show()"
   ]
  },
  {
   "cell_type": "code",
   "execution_count": 15,
   "id": "dc82b4e1-6ba7-40fc-b6e2-f8d3f1a72604",
   "metadata": {},
   "outputs": [
    {
     "data": {
      "image/png": "[encoded data removed]",
      "text/plain": [
       "<Figure size 720x432 with 1 Axes>"
      ]
     },
     "metadata": {
      "needs_background": "light"
     },
     "output_type": "display_data"
    }
   ],
   "source": [
    "def draw_vector(v0, v1, ax=None):\n",
    "    ax = ax or plt.gca()\n",
    "    arrowprops=dict(arrowstyle='->',\n",
    "                    linewidth=2,\n",
    "                    shrinkA=0, shrinkB=0, color='blue')\n",
    "    ax.annotate('', v1, v0, arrowprops=arrowprops)\n",
    "\n",
    "# plot data\n",
    "plt.figure(figsize=(10, 6))\n",
    "plt.scatter(X_pca[:, 0], X_pca[:, 1], alpha=0.4)\n",
    "for length, vector in zip(eigenvalues, np.identity(2)):\n",
    "    v = vector * 3 * np.sqrt(length)\n",
    "    draw_vector([0,0], v)\n",
    "\n",
    "plt.xlabel('PCA1', fontsize=18)\n",
    "plt.ylabel('PCA2', fontsize=18)\n",
    "plt.axis('equal')\n",
    "plt.show()"
   ]
  },
  {
   "cell_type": "code",
   "execution_count": null,
   "id": "8d8294c3-f455-4347-9571-f1b6e0581397",
   "metadata": {},
   "outputs": [],
   "source": []
  }
 ],
 "metadata": {
  "kernelspec": {
   "display_name": "Python 3 (ipykernel)",
   "language": "python",
   "name": "python3"
  },
  "language_info": {
   "codemirror_mode": {
    "name": "ipython",
    "version": 3
   },
   "file_extension": ".py",
   "mimetype": "text/x-python",
   "name": "python",
   "nbconvert_exporter": "python",
   "pygments_lexer": "ipython3",
   "version": "3.8.12"
  }
 },
 "nbformat": 4,
 "nbformat_minor": 5
}
