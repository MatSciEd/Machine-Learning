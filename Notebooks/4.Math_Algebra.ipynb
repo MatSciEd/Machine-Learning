{
 "cells": [
  {
   "cell_type": "markdown",
   "id": "061a8fcc-19f2-4882-949c-6fcd8447039e",
   "metadata": {},
   "source": [
    "# Math - Algebra\n",
    "\n",
    "[![Open In Colab](https://colab.research.google.com/assets/colab-badge.svg)](https://colab.research.google.com/github/rhennig/EMA6938/blob/main/Notebooks/4.Math_Algebra.ipynb)\n",
    "\n",
    "(Based on https://online.stat.psu.edu/stat462/node/132/ and https://www.geeksforgeeks.org/ml-normal-equation-in-linear-regression)\n",
    "\n",
    "Linear algebra is the branch of mathematics concerning linear equations,\n",
    "$$\n",
    "a_{1}x_{1}+\\cdots +a_{n}x_{n}=b,\n",
    "$$\n",
    "linear maps ,\n",
    "$$\n",
    "(x_{1},\\ldots ,x_{n})\\mapsto a_{1}x_{1}+\\cdots +a_{n}x_{n},\n",
    "$$\n",
    "and their representations in vector spaces and through matrices. Linear algebra is a key foundation to the field of machine learning, from the notations used to describe the equations and operation of algorithms to the efficient implementation of algorithms in code."
   ]
  },
  {
   "cell_type": "markdown",
   "id": "4e805e9a-b0af-408f-bc62-4d194ce69ce8",
   "metadata": {},
   "source": [
    "## 1. Motivational Example of Linear Regression\n",
    "\n",
    "We first derive the linear regression model in matrix form. In linear regression, we fit a linear function to a dataset of $N$ data points $(x_i, y_i)$. The linear model is given by\n",
    "$$\n",
    "y(x) = \\beta_0 + \\beta_1 x.\n",
    "$$\n",
    "\n",
    "Linear regression desscribes the data by minimizing the least squares deviation between the data and the linear model:\n",
    "$$\n",
    "y_i = \\beta_0 + \\beta_1 x_i + \\epsilon _i, \\, \\text{for }i = 1, \\dots , n.\n",
    "$$\n",
    "Here the $\\epsilon_i$ describes the deviation between the model and data and are assumed to be Gaussian distributed.\n",
    "\n",
    "Writing out the set of equations for $i = 1, \\dots, n$, we obtain $n$ equations:\n",
    "$$\n",
    "y_1 = \\beta_0 + \\beta_1 x_1 + \\epsilon _1 \\\\\n",
    "y_2 = \\beta_0 + \\beta_1 x_2 + \\epsilon _2 \\\\\n",
    "\\vdots \\\\\n",
    "y_n = \\beta_0 + \\beta_1 x_n + \\epsilon _n \\\\\n",
    "$$\n",
    "\n",
    "We can formulate the above simple linear regression function in matrix notation:\n",
    "$$\n",
    "\\begin{bmatrix} y_1 \\\\ y_2 \\\\ \\vdots \\\\ y_n \\end{bmatrix} =\n",
    "\\begin{bmatrix}\n",
    "   1 & x_1 \\\\\n",
    "   1 & x_2 \\\\\n",
    "   \\vdots \\\\\n",
    "   1 & x_n\n",
    "\\end{bmatrix}\n",
    "\\begin{bmatrix}\n",
    "   \\beta_0 \\\\\n",
    "   \\beta_1\n",
    "\\end{bmatrix} +\n",
    "\\begin{bmatrix}\n",
    "   \\epsilon_1 \\\\\n",
    "   \\epsilon_2 \\\\\n",
    "   \\vdots \\\\\n",
    "   \\epsilon_n\n",
    "\\end{bmatrix}.\n",
    "$$\n",
    "\n",
    "We can write this matrix equation in a more compact form\n",
    "$$\n",
    "{\\bf Y} = {\\bf X} {\\bf \\beta} + {\\bf \\epsilon},\n",
    "$$\n",
    "where\n",
    "- **X** is an n × 2 matrix.\n",
    "- **Y** is an n × 1 column vector\n",
    "- **β** is a 2 × 1 column vector\n",
    "- **ε** is an n × 1 column vector.\n",
    "\n",
    "The matrix **X** and vector **β** are multiplied together using the techniques of matrix multiplication.\n",
    "And, the vector **Xβ** is added to the vector **ε** using the techniques of matrix addition.\n",
    "\n",
    "Let's quickly review matrix algebra, the subject of mathematics that deals with operations of matrices, vectors, and tensors."
   ]
  },
  {
   "cell_type": "markdown",
   "id": "94827aa3-1264-434a-8dce-6785433bc6b2",
   "metadata": {},
   "source": [
    "## 2. Definition of a matrix\n",
    "\n",
    "An r × c matrix is a rectangular array of symbols or numbers arranged in r rows and c columns. A matrix is frequently denoted by a capital letter in boldface type.\n",
    "\n",
    "Here are three examples of simple matrices. The matrix **A** is a 2 × 2 square matrix containing numbers:\n",
    "$$\n",
    "{\\bf A} = \\begin{bmatrix} 23 & 9 \\\\ 20 & 7 \\end{bmatrix}.\n",
    "$$\n",
    "\n",
    "The matrix **B** is a 5 × 3 matrix containing numbers:\n",
    "$$\n",
    "{\\bf B} = \\begin{bmatrix}\n",
    "    1 & 40 & 1.9 \\\\\n",
    "    1 & 65 & 2.5 \\\\\n",
    "    1 & 71 & 2.8 \\\\\n",
    "    1 & 80 & 3.4 \\\\\n",
    "    1 & 92 & 3.1\n",
    "\\end{bmatrix}.\n",
    "$$\n",
    "\n",
    "And, the matrix **X** is a 6 × 3 matrix containing a column of 1's and two columns of various x variables:\n",
    "$$\n",
    "{\\bf X} = \\begin{bmatrix}\n",
    "    1 & x_{11} & x_{12} \\\\\n",
    "    1 & x_{21} & x_{22} \\\\\n",
    "    1 & x_{31} & x_{32} \\\\\n",
    "    1 & x_{41} & x_{42} \\\\\n",
    "    1 & x_{51} & x_{52}\n",
    "\\end{bmatrix}.\n",
    "$$"
   ]
  },
  {
   "cell_type": "markdown",
   "id": "0676c740-e4d2-46e2-b5b5-35d3c64c9200",
   "metadata": {},
   "source": [
    "## 3. Definition of a Vector and a Scalar\n",
    "\n",
    "A column vector is an r × 1 matrix, that is, a matrix with only one column. A vector is almost often denoted by a single lowercase letter in boldface type. The following vector **s** is a 3 × 1 column vector containing numbers:\n",
    "$$\n",
    "{\\bf s} = \\begin{bmatrix} 30 \\\\ 4 \\\\ 2013 \\end{bmatrix}.\n",
    "$$\n",
    "\n",
    "A row vector is an 1 × c matrix, that is, a matrix with only one row. The vector **m** is a 1 × 4 row vector containing numbers:\n",
    "$$\n",
    "{\\bf m} = \\begin{bmatrix} 23 & 9 & 20 & 7 \\end{bmatrix}.\n",
    "$$\n",
    "\n",
    "A 1 × 1 \"matrix\" is called a scalar, but it's just an ordinary number, such as 24 or $\\pi$."
   ]
  },
  {
   "cell_type": "markdown",
   "id": "b8e9de64-b4b3-4e71-a3b0-c9f9614179a0",
   "metadata": {},
   "source": [
    "## 4. Matrix Multiplication\n",
    "\n",
    "Recall the term **Xβ**, which appears in the regression function:\n",
    "$$\n",
    "{\\bf Y} = {\\bf X} {\\bf \\beta} + {\\bf \\epsilon}.\n",
    "$$\n",
    "This is an example of a matrix multiplication. Since matrices have different numbers and columns, there are some constraints when multiplying matrices together. Two matrices can be multiplied together only if the **number of columns of the first matrix equals the number of rows of the second matrix**. \n",
    "\n",
    "When you multiply the two matrices:\n",
    "- the number of rows of the resulting matrix equals the number of rows of the first matrix, and\n",
    "- the number of columns of the resulting matrix equals the number of columns of the second matrix.\n",
    "\n",
    "For example, if **A** is a 2 × 3 matrix and **B** is a 3 × 5 matrix, then the matrix multiplication **AB** is possible. The resulting matrix **C** = **AB** has 2 rows and 5 columns. That is, **C** is a 2 × 5 matrix. Note that the matrix multiplication **BA** is not possible.\n",
    "\n",
    "For another example, if **X** is an n × (k+1) matrix and **β** is a (k+1) × 1 column vector, then the matrix multiplication **Xβ** is possible. The resulting matrix **Xβ** has n rows and 1 column. That is, **Xβ** is an n × 1 column vector.\n",
    "\n",
    "Now that we know when we can multiply two matrices together, here is the basic rule for multiplying **A** by **B** to get **C** = **AB**:\n",
    "\n",
    "The entry in the i$^\\mathrm{th}$ row and j$^\\mathrm{th}$ column of **C** is the inner product — that is, element-by-element products added together — of the i$^\\mathrm{th}$ row of **A** with the j$^\\mathrm{th}$ column of **B**.\n",
    "\n",
    "For example:\n",
    "$$\n",
    " A = \\begin{bmatrix} 1 & 9 & 7 \\\\ 8 & 1 & 2 \\end{bmatrix}\n",
    "$$\n",
    "\n",
    "$$\n",
    " B = \\begin{bmatrix} 3 & 2 & 1 & 5 \\\\ 5 & 4 & 7 & 3 \\\\ 6 & 9 & 6 & 8 \\end{bmatrix}\n",
    "$$\n",
    "\n",
    "$$\n",
    " C = A B =\n",
    "     \\begin{bmatrix} 1 & 9 & 7 \\\\ 8 & 1 & 2 \\end{bmatrix} \n",
    "     \\begin{bmatrix} 3 & 2 & 1 & 5 \\\\ 5 & 4 & 6 & 3 \\\\ 6 & 9 & 7 & 8 \\end{bmatrix}\n",
    "   = \\begin{bmatrix} 90 & 101 & 106 & 88 \\\\ 41 & 38 & 27 & 59 \\end{bmatrix} \n",
    "$$"
   ]
  },
  {
   "cell_type": "code",
   "execution_count": 1,
   "id": "5d75472f-2bcf-4ca4-bcbf-8bf9ba522a38",
   "metadata": {},
   "outputs": [
    {
     "name": "stdout",
     "output_type": "stream",
     "text": [
      "A  = \n",
      " [[1 9 7]\n",
      " [8 1 2]]\n",
      "B  = \n",
      " [[3 2 1 5]\n",
      " [5 4 7 3]\n",
      " [6 9 6 8]]\n",
      "AB = \n",
      " [[ 90 101 106  88]\n",
      " [ 41  38  27  59]]\n"
     ]
    }
   ],
   "source": [
    "# Check the matrix multiplication result in Python using the numpy function matmul\n",
    "import numpy as np\n",
    "\n",
    "A = np.array([[1, 9, 7], [8, 1, 2]])\n",
    "B = np.array([[3, 2, 1, 5], [5, 4, 7, 3], [6, 9, 6, 8]])\n",
    "\n",
    "print(\"A  = \\n\", A)\n",
    "print(\"B  = \\n\", B)\n",
    "# matmul multiplies two matrices\n",
    "# Remember that the operation \"*\" multiplies woi matrices element by element,\n",
    "# which is not a matrix multiplication\n",
    "C = np.matmul(A, B)\n",
    "print(\"AB = \\n\", C)"
   ]
  },
  {
   "cell_type": "markdown",
   "id": "c685a4f9-d850-4030-882b-07ef58d825ad",
   "metadata": {},
   "source": [
    "That is, the entry in the first row and first column of **C**, denoted $c_{11}$, is obtained by:\n",
    "$$\n",
    "c_{11} = 1(3) + 9(5) +7(6) = 90\n",
    "$$\n",
    "\n",
    "And, the entry in the first row and second column of **C**, denoted $c_{12}$, is obtained by:\n",
    "$$\n",
    "c_{12} = 1(2) + 9(4) + 7(9) = 101\n",
    "$$\n",
    "\n",
    "And, the entry in the second row and third column of C, denoted c23, is obtained by:\n",
    "$$\n",
    "c_{23} = 8(1) + 1(7) + 2(6) = 27\n",
    "$$"
   ]
  },
  {
   "cell_type": "markdown",
   "id": "36740776-0544-4b1c-848e-38dd7a471713",
   "metadata": {},
   "source": [
    "## 5. Matrix Addition\n",
    "Remember the expression **Xβ** + **ε** that appears in the regression function:\n",
    "$$\n",
    "{\\bf Y} = \\bf{X \\beta} + {\\bf \\epsilon}\n",
    "$$\n",
    "is an example of matrix addition. Again, there are some restrictions — you cannot just add any two matrices together. Two matrices can be added together only if they have the same number of rows and columns. Then, to add two matrices, simply add the corresponding elements of the two matrices.\n",
    "\n",
    "For example:\n",
    "$$\n",
    "{\\bf C} = {\\bf A} + {\\bf B} =\n",
    "\\begin{bmatrix} 2 & 1 & 3 \\\\ 4 & 8 & 5 \\\\ -1 & 7 & 6 \\end{bmatrix}\n",
    "+\n",
    "\\begin{bmatrix} 7 & 9 & 2 \\\\ 5 & -3 & 1 \\\\ 2 & 1 & 8 \\end{bmatrix}\n",
    "=\n",
    "\\begin{bmatrix} 9 & 10 & 5 \\\\ 9 & 5 & 6 \\\\ 1 & 8 & 14\\end{bmatrix}\n",
    "$$"
   ]
  },
  {
   "cell_type": "code",
   "execution_count": 2,
   "id": "a55c9344-be28-47ed-92c4-e31551b5b3d5",
   "metadata": {},
   "outputs": [
    {
     "name": "stdout",
     "output_type": "stream",
     "text": [
      "A  = \n",
      " [[ 2  1  3]\n",
      " [ 4  8  5]\n",
      " [-1  7  6]]\n",
      "B  = \n",
      " [[ 7  9  2]\n",
      " [ 5 -3  1]\n",
      " [ 2  1  8]]\n",
      "AB = \n",
      " [[ 9 10  5]\n",
      " [ 9  5  6]\n",
      " [ 1  8 14]]\n"
     ]
    }
   ],
   "source": [
    "# Check the matrix addition result in Python using the numpy addition operation\n",
    "import numpy as np\n",
    "\n",
    "A = np.array([[2, 1, 3], [4, 8, 5], [-1, 7, 6]])\n",
    "B = np.array([[7, 9, 2], [5, -3, 1], [2, 1, 8]])\n",
    "\n",
    "print(\"A  = \\n\", A)\n",
    "print(\"B  = \\n\", B)\n",
    "C = A + B\n",
    "print(\"AB = \\n\", C)"
   ]
  },
  {
   "cell_type": "markdown",
   "id": "6b7a1f44-fc0c-400d-a3ba-4bec10303292",
   "metadata": {},
   "source": [
    "## 6. Least Squares Estimates of Linear Regression Coefficients\n",
    "\n",
    "As we will discuss later, minimizing the mean squared error of model prediction and data leads to the following equation for the coefficient vector ${\\bf \\beta}$:\n",
    "$$\n",
    "{\\bf \\beta} = \\begin{bmatrix} \\beta_0 \\\\ \\vdots \\\\ \\beta_k \\end{bmatrix}\n",
    "= ({\\bf X}' {\\bf X})^{-1} {\\bf X}' {\\bf Y},\n",
    "$$\n",
    "where\n",
    "- $({\\bf X}' {\\bf X})^{-1}$ is the inverse of the ${\\bf X}' {\\bf X}$ matrix, and\n",
    "- ${\\bf X}'$ is the transpose of the ${\\bf X}$ matrix.\n",
    "\n",
    "Let's remind ourselves of the transpose and inverse of a matrix."
   ]
  },
  {
   "cell_type": "markdown",
   "id": "9110df44-5a0e-4def-b35d-c463df32f4fc",
   "metadata": {},
   "source": [
    "## 7. Transpose of a Matrix\n",
    "\n",
    "The transpose of a matrix **A** is a matrix, denoted as $\\bf A'$ or ${\\bf A}^T$, whose rows are the columns of ${\\bf A}$ and whose columns are the rows of ${\\bf A}$ — all in the same order.\n",
    "\n",
    "For example, the transpose of the 3 × 2 matrix A:\n",
    "$$\n",
    "{\\bf A} = \\begin{bmatrix} 1 & 4 \\\\ 7 & 5 \\\\ 8 & 9 \\end{bmatrix}\n",
    "$$\n",
    "is the 2 × 3 matrix $\\bf A'$:\n",
    "$$\n",
    "{\\bf A}' = {\\bf A}^T = \\begin{bmatrix} 1 & 7 & 8 \\\\ 4 & 5 & 9 \\end{bmatrix}\n",
    "$$\n",
    "\n",
    "The ${\\bf X}$ matrix in the simple linear regression setting is:\n",
    "$$\n",
    "{\\bf X} = \\begin{bmatrix}\n",
    "   1 & x_1 \\\\\n",
    "   1 & x_2 \\\\\n",
    "   \\vdots \\\\\n",
    "   1 & x_n\n",
    "\\end{bmatrix}.\n",
    "$$\n",
    "\n",
    "Hence, the ${\\bf X}'{\\bf X}$ matrix in the linear regression is:\n",
    "$$\n",
    "{\\bf X}'{\\bf X} = \\begin{bmatrix}\n",
    "   1 & 1 & \\dots & 1\\\\\n",
    "   x_1 & x_2 & & x_n\n",
    "\\end{bmatrix}\n",
    "\\begin{bmatrix}\n",
    "   1 & x_1 \\\\\n",
    "   1 & x_2 \\\\\n",
    "   \\vdots \\\\\n",
    "   1 & x_n\n",
    "\\end{bmatrix}\n",
    "= \\begin{bmatrix}\n",
    "1 & \\sum_{i=1}^n x_i \\\\ \\sum_{i=1}^n x_i & \\sum_{i=1}^n x_i^2\n",
    "\\end{bmatrix}.\n",
    "$$"
   ]
  },
  {
   "cell_type": "markdown",
   "id": "327675b3-e09d-4579-8b50-d7f373ffa786",
   "metadata": {},
   "source": [
    "## 8. The Inverse of a Matrix\n",
    "\n",
    "The inverse ${\\bf A}^{-1}$ of a **square matrix A** is the unique matrix such that:\n",
    "$$\n",
    "{\\bf A}^{-1} {\\bf A} = {\\bf I} = {\\bf A} {\\bf A}^{-1}.\n",
    "$$\n",
    "\n",
    "That is, the inverse of ${\\bf A}$ is the matrix ${\\bf A}^{-1}$ that you multiply ${\\bf A}$ by to obtain the identity matrix ${\\bf I}$. Note that the inverse only exists for square matrices.\n",
    "\n",
    "Now, finding inverses, particularly for large matrices, is a complicated task. We will use numpy to calculate the inverses."
   ]
  },
  {
   "cell_type": "markdown",
   "id": "116fd492-0dca-40f0-b28d-b63d1351d026",
   "metadata": {},
   "source": [
    "## 9. Solution for Linear Regresssion\n",
    "\n",
    "We will use a data set from the Python library sklearn for linear regression."
   ]
  },
  {
   "cell_type": "code",
   "execution_count": 3,
   "id": "8a5e0c12-fd33-405c-a92c-973c5ae7ae81",
   "metadata": {},
   "outputs": [
    {
     "data": {
      "image/png": "[encoded data removed]",
      "text/plain": [
       "<Figure size 576x432 with 1 Axes>"
      ]
     },
     "metadata": {
      "needs_background": "light"
     },
     "output_type": "display_data"
    }
   ],
   "source": [
    "# import required modules\n",
    "import numpy as np\n",
    "import matplotlib.pyplot as plt\n",
    "from sklearn.datasets import make_regression\n",
    "\n",
    "# Create data set\n",
    "x,y = make_regression(n_samples=100,n_features=1,n_informative=1,noise = 10,random_state=10)\n",
    " \n",
    "# Plot the generated data set\n",
    "plt.figure(figsize=(8, 6))\n",
    "plt.rcParams['font.size'] = '16'\n",
    "plt.scatter(x, y, s = 30, marker = 'o')\n",
    "plt.xlabel('x')\n",
    "plt.ylabel('y')\n",
    "plt.title('Scatter Data', fontsize=20)\n",
    "plt.show()\n",
    " \n",
    "# Convert the vector of y variables into a column vector\n",
    "y=y.reshape(100,1)"
   ]
  },
  {
   "cell_type": "code",
   "execution_count": 21,
   "id": "2f2d9e05-4cf4-44a5-8206-e259a603d035",
   "metadata": {},
   "outputs": [
    {
     "name": "stdout",
     "output_type": "stream",
     "text": [
      "Matrix X =\n",
      " [[ 1.         -1.41855603]\n",
      " [ 1.          1.74481415]\n",
      " [ 1.         -0.23218226]\n",
      " [ 1.         -0.48933722]] \n",
      " ...\n",
      "\n",
      "Matrix X'X =\n",
      " [[100.           7.94166629]\n",
      " [  7.94166629  94.14723566]] \n",
      "\n",
      "Inverse of (X'X) =\n",
      " [[ 0.01006744 -0.00084923]\n",
      " [-0.00084923  0.0106933 ]] \n",
      "\n",
      "Regression coefficients\n",
      "  β0 =  0.5280415108758212 \n",
      "  β1 =  30.658963373978573\n"
     ]
    }
   ],
   "source": [
    "# Create matrix X by adding x0=1 to each instance of x and taking the transpose\n",
    "X = np.array([np.ones(len(x)), x.flatten()]).T\n",
    "print(\"Matrix X =\\n\", X[1:5, :], \"\\n ...\\n\")\n",
    "\n",
    "# Determining the coefficients of linear regression\n",
    "# by calculating the inverse of (X'X) and multiplying it by X'Y.\n",
    "\n",
    "XTX = np.matmul(X.T, X)\n",
    "print(\"Matrix X'X =\\n\", XTX, \"\\n\")\n",
    "\n",
    "XTXinv = np.linalg.inv(XTX)\n",
    "print(\"Inverse of (X'X) =\\n\", XTXinv, \"\\n\")\n",
    "\n",
    "beta = np.matmul(XTXinv, np.matmul(X.T, y))\n",
    "\n",
    "# Display best values obtained.\n",
    "print(\"Regression coefficients\\n  β0 = \", beta[0,0], \"\\n  β1 = \", beta[1,0])"
   ]
  },
  {
   "cell_type": "code",
   "execution_count": 5,
   "id": "49b74845-c27c-41da-ba22-f4321a48d545",
   "metadata": {},
   "outputs": [
    {
     "data": {
      "image/png": "[encoded data removed]",
      "text/plain": [
       "<Figure size 576x432 with 1 Axes>"
      ]
     },
     "metadata": {
      "needs_background": "light"
     },
     "output_type": "display_data"
    }
   ],
   "source": [
    "# Predict the values for given data instance.\n",
    "x_sample=np.array([[-2.5],[3]])\n",
    "x_sample_new=np.array([np.ones(len(x_sample)),x_sample.flatten()]).T\n",
    "y_predicted = np.matmul(x_sample_new, beta)\n",
    "\n",
    "# Plot the generated data set\n",
    "plt.figure(figsize=(8, 6))\n",
    "plt.rcParams['font.size'] = '16'\n",
    "plt.scatter(x, y, s = 30, marker = 'o')\n",
    "plt.xlabel('x')\n",
    "plt.ylabel('y')\n",
    "plt.title('Scatter Data', fontsize=20)\n",
    "plt.plot(x_sample, y_predicted, color='orange')\n",
    "plt.show()"
   ]
  },
  {
   "cell_type": "code",
   "execution_count": 6,
   "id": "13fc965d-a2d8-4eb5-84b0-d4dc7a0c7c4a",
   "metadata": {},
   "outputs": [
    {
     "name": "stdout",
     "output_type": "stream",
     "text": [
      "β0 =  0.5280415108758181 \n",
      "β1 =  30.65896337397858\n"
     ]
    }
   ],
   "source": [
    "# Verification using scikit learn function for linear regression\n",
    "from sklearn.linear_model import LinearRegression\n",
    "lr = LinearRegression()    # Object\n",
    "lr.fit(x, y)               # Fit method.\n",
    " \n",
    "# Print obtained theta values.\n",
    "print(\"β0 = \", lr.intercept_[0], \"\\nβ1 = \", lr.coef_[0,0])"
   ]
  },
  {
   "cell_type": "markdown",
   "id": "da9da25a-6dd7-4ec2-9f29-a0a572efe9e2",
   "metadata": {},
   "source": [
    "## 10. Practice\n",
    "\n",
    "The hat matrix converts values from the observed variable $y_i$ into the estimated values $\\hat y$  obtained with the least squares method. The hat matrix, $\\bf H$, is given by\n",
    "$$\n",
    "{\\bf H} =  {\\bf X} ({\\bf X}' {\\bf X})^{-1} {\\bf X}'\n",
    "$$\n",
    "\n",
    "Calculate the hat matrix, $\\bf H$, and show that you obtain the predicted $y$-values by creating a plot."
   ]
  },
  {
   "cell_type": "code",
   "execution_count": 7,
   "id": "17a4083e-0b74-4de4-b2a6-0a0c7d065826",
   "metadata": {},
   "outputs": [],
   "source": [
    "# Calculate the hat matrix\n",
    "\n",
    "# Apply the hat matrix to the y-values to generate the y predictions\n",
    "\n",
    "# Plot the predicted and original y values vs. the x values\n"
   ]
  },
  {
   "cell_type": "markdown",
   "id": "12f4386e-e28b-4bd8-b6b1-bbeb4d13b67d",
   "metadata": {},
   "source": [
    "Knowning the hat matrix, $\\bf H$, we can also express the $R^2$ value for the linear regression using a matrix equation:\n",
    "$$\n",
    "R^2 = 1 - \\frac{{\\bf y}'({\\bf 1} - {\\bf H}){\\bf y}}{{\\bf y}'({\\bf 1} - {\\bf M}){\\bf y}}\n",
    "$$\n",
    "where $\\bf 1$ is the identity matrix,\n",
    "$$\n",
    "{\\bf M} = {\\bf l}({\\bf l}'{\\bf l})^{-1}{\\bf l}',\n",
    "$$\n",
    "and ${\\bf l}$ is a column vector of 1's.\n",
    "\n",
    "Calculate the $R^2$ value using the above matrix form of the equations."
   ]
  },
  {
   "cell_type": "code",
   "execution_count": 8,
   "id": "3ccd90e6-cba3-4901-9d37-841eb66fac2f",
   "metadata": {},
   "outputs": [],
   "source": [
    "# Create a column vector of 1's with length 100\n",
    "\n",
    "# Calculate the matrix M\n",
    "\n",
    "# Calculate R2\n"
   ]
  }
 ],
 "metadata": {
  "kernelspec": {
   "display_name": "Python 3 (ipykernel)",
   "language": "python",
   "name": "python3"
  },
  "language_info": {
   "codemirror_mode": {
    "name": "ipython",
    "version": 3
   },
   "file_extension": ".py",
   "mimetype": "text/x-python",
   "name": "python",
   "nbconvert_exporter": "python",
   "pygments_lexer": "ipython3",
   "version": "3.8.12"
  }
 },
 "nbformat": 4,
 "nbformat_minor": 5
}
