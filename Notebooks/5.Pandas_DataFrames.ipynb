{
 "cells": [
  {
   "cell_type": "markdown",
   "id": "aefb4d72-7d06-4b58-82fd-997ded60fb6c",
   "metadata": {},
   "source": [
    "# Pandas Data Frames\n",
    "\n",
    "[![Open In Colab](https://colab.research.google.com/assets/colab-badge.svg)](https://colab.research.google.com/github/rhennig/EMA6938/blob/main/Notebooks/5.Pandas_DataFrames.ipynb)\n",
    "\n",
    "(Based https://www.w3schools.com/python/pandas/ and https://realpython.com/python-data-cleaning-numpy-pandas/)\n",
    "\n",
    "This notebook introduces the Panda Data Frames library. We will learn how to easily load and manipulate data, from selecting or replacing columns and indices to reshaping the data."
   ]
  },
  {
   "cell_type": "markdown",
   "id": "8a75ec8b-8715-4852-8bc0-28f1a5e37cf9",
   "metadata": {},
   "source": [
    "### First, load needed Python packages"
   ]
  },
  {
   "cell_type": "code",
   "execution_count": 1,
   "id": "df0f1343-704c-41e2-961f-a3b2da28ff9c",
   "metadata": {},
   "outputs": [],
   "source": [
    "# Import numpy and pandas dataframes\n",
    "import numpy as np\n",
    "import pandas as pd\n",
    "\n",
    "# Set pandas view options\n",
    "pd.set_option('display.width', 800)\n",
    "pd.set_option('display.max_columns', None)\n",
    "pd.set_option('display.max_rows', None)"
   ]
  },
  {
   "cell_type": "markdown",
   "id": "06302d63-6dca-4d1e-8e1d-6e0845bd8bb7",
   "metadata": {},
   "source": [
    "## 1. Pandas Data Structures\n",
    "\n",
    "Pandas provides two types of data structures: **Series** and **DataFrames**:\n",
    "\n",
    "- A **Series** is a one dimensional data structure (“a one dimensional ndarray”) that can store values — and for every value it holds a unique index.\n",
    "\n",
    "- A **DataFrame** is a two (or more) dimensional data structure – basically a table with rows and columns. The columns have names and the rows have indexes.\n",
    "\n",
    "<img src=\"https://github.com/rhennig/EMA6938/blob/main/Notebooks/Figures/Pandas.png?raw=1\" alt=\"Confusion Matrix\" align=\"center\" style=\"width:500px; float:center\"/>"
   ]
  },
  {
   "cell_type": "code",
   "execution_count": 2,
   "id": "339b7c10-b64c-4784-a935-a13ddf602a59",
   "metadata": {},
   "outputs": [
    {
     "name": "stdout",
     "output_type": "stream",
     "text": [
      "     Element   Z          Magnetism\n",
      "0   Titanium  22       Paramagnetic\n",
      "1   Vanadium  23       Paramagnetic\n",
      "2  Manganese  24            Complex\n",
      "3   Chromium  25  Antiferromagnetic\n",
      "4       Iron  26      Ferromagnetic\n",
      "5     Cobalt  27      Ferromagnetic\n",
      "6     Nickel  28      Ferromagnetic\n"
     ]
    }
   ],
   "source": [
    "# Create a Pandas DataFrame\n",
    "\n",
    "# Using a dict of ndarray/lists\n",
    "data = {\n",
    "  'Element': ['Titanium', 'Vanadium', 'Manganese',\n",
    "              'Chromium', 'Iron', 'Cobalt', 'Nickel'],\n",
    "  'Z': [22, 23, 24,\n",
    "        25, 26, 27, 28],\n",
    "  'Magnetism':['Paramagnetic', 'Paramagnetic', 'Complex',\n",
    "               'Antiferromagnetic', 'Ferromagnetic', 'Ferromagnetic', 'Ferromagnetic']\n",
    "}\n",
    "\n",
    "# Load data into a DataFrame object:\n",
    "df = pd.DataFrame(data)\n",
    "\n",
    "print(df)"
   ]
  },
  {
   "cell_type": "code",
   "execution_count": 3,
   "id": "9d9e0346-cf05-4173-810d-3561aaa49c85",
   "metadata": {},
   "outputs": [
    {
     "name": "stdout",
     "output_type": "stream",
     "text": [
      "     Element   Z          Magnetism\n",
      "0   Titanium  22       Paramagnetic\n",
      "1   Vanadium  23       Paramagnetic\n",
      "2  Manganese  24            Complex\n",
      "3   Chromium  25  Antiferromagnetic\n",
      "4       Iron  26      Ferromagnetic\n",
      "5     Cobalt  27      Ferromagnetic\n",
      "6     Nickel  28      Ferromagnetic\n"
     ]
    }
   ],
   "source": [
    "# Alternatively, create Pandas DataFrame from lists of lists\n",
    "data = [['Titanium', 22, 'Paramagnetic'],\n",
    "        ['Vanadium', 23, 'Paramagnetic'],\n",
    "        ['Manganese', 24, 'Complex'],\n",
    "        ['Chromium', 25, 'Antiferromagnetic'],\n",
    "        ['Iron', 26, 'Ferromagnetic'],\n",
    "        ['Cobalt', 27, 'Ferromagnetic'],\n",
    "        ['Nickel', 28, 'Ferromagnetic']]\n",
    "\n",
    "# Load data into a DataFrame object:\n",
    "df = pd.DataFrame(data, columns = ['Element', 'Z', 'Magnetism'])\n",
    "\n",
    "print(df)"
   ]
  },
  {
   "cell_type": "markdown",
   "id": "b04ae155-8b98-455e-8d86-ea5cfce1eddf",
   "metadata": {},
   "source": [
    "### Locate Row\n",
    "\n",
    "As you can see from the result above, the DataFrame is like a table with rows and columns.\n",
    "\n",
    "Pandas use the loc attribute to return one or more specified row(s)."
   ]
  },
  {
   "cell_type": "code",
   "execution_count": 4,
   "id": "73d44368-85f2-4060-b0a0-301fe79f9064",
   "metadata": {},
   "outputs": [
    {
     "name": "stdout",
     "output_type": "stream",
     "text": [
      "Element          Titanium\n",
      "Z                      22\n",
      "Magnetism    Paramagnetic\n",
      "Name: 0, dtype: object\n"
     ]
    }
   ],
   "source": [
    "# Refer to the row index:\n",
    "print(df.loc[0])"
   ]
  },
  {
   "cell_type": "markdown",
   "id": "32cc46ae-dd9d-4515-963e-1c401f5e298f",
   "metadata": {},
   "source": [
    "Note that this example returns a Pandas Series."
   ]
  },
  {
   "cell_type": "code",
   "execution_count": 5,
   "id": "243fa634-f188-4be1-8cb9-6ac38cd8d928",
   "metadata": {},
   "outputs": [
    {
     "data": {
      "text/html": [
       "<div>\n",
       "<style scoped>\n",
       "    .dataframe tbody tr th:only-of-type {\n",
       "        vertical-align: middle;\n",
       "    }\n",
       "\n",
       "    .dataframe tbody tr th {\n",
       "        vertical-align: top;\n",
       "    }\n",
       "\n",
       "    .dataframe thead th {\n",
       "        text-align: right;\n",
       "    }\n",
       "</style>\n",
       "<table border=\"1\" class=\"dataframe\">\n",
       "  <thead>\n",
       "    <tr style=\"text-align: right;\">\n",
       "      <th></th>\n",
       "      <th>Element</th>\n",
       "      <th>Z</th>\n",
       "      <th>Magnetism</th>\n",
       "    </tr>\n",
       "  </thead>\n",
       "  <tbody>\n",
       "    <tr>\n",
       "      <th>0</th>\n",
       "      <td>Titanium</td>\n",
       "      <td>22</td>\n",
       "      <td>Paramagnetic</td>\n",
       "    </tr>\n",
       "    <tr>\n",
       "      <th>1</th>\n",
       "      <td>Vanadium</td>\n",
       "      <td>23</td>\n",
       "      <td>Paramagnetic</td>\n",
       "    </tr>\n",
       "  </tbody>\n",
       "</table>\n",
       "</div>"
      ],
      "text/plain": [
       "    Element   Z     Magnetism\n",
       "0  Titanium  22  Paramagnetic\n",
       "1  Vanadium  23  Paramagnetic"
      ]
     },
     "execution_count": 5,
     "metadata": {},
     "output_type": "execute_result"
    }
   ],
   "source": [
    "# Use a list of indexes:\n",
    "df.loc[[0, 1]]"
   ]
  },
  {
   "cell_type": "markdown",
   "id": "5075ccca-d6c2-42b7-a337-a355277758a8",
   "metadata": {},
   "source": [
    "When using [], the result is a Pandas DataFrame."
   ]
  },
  {
   "cell_type": "code",
   "execution_count": 6,
   "id": "cdfdf7e7-afc0-4ed0-ab49-3d6ff3b8271d",
   "metadata": {},
   "outputs": [
    {
     "data": {
      "text/plain": [
       "0         Paramagnetic\n",
       "1         Paramagnetic\n",
       "2              Complex\n",
       "3    Antiferromagnetic\n",
       "4        Ferromagnetic\n",
       "5        Ferromagnetic\n",
       "6        Ferromagnetic\n",
       "Name: Magnetism, dtype: object"
      ]
     },
     "execution_count": 6,
     "metadata": {},
     "output_type": "execute_result"
    }
   ],
   "source": [
    "# Refer to the column name:\n",
    "df.loc[:, 'Magnetism']"
   ]
  },
  {
   "cell_type": "code",
   "execution_count": 7,
   "id": "71b054d0-8881-4d65-b42d-8541815ec5c5",
   "metadata": {},
   "outputs": [
    {
     "data": {
      "text/html": [
       "<div>\n",
       "<style scoped>\n",
       "    .dataframe tbody tr th:only-of-type {\n",
       "        vertical-align: middle;\n",
       "    }\n",
       "\n",
       "    .dataframe tbody tr th {\n",
       "        vertical-align: top;\n",
       "    }\n",
       "\n",
       "    .dataframe thead th {\n",
       "        text-align: right;\n",
       "    }\n",
       "</style>\n",
       "<table border=\"1\" class=\"dataframe\">\n",
       "  <thead>\n",
       "    <tr style=\"text-align: right;\">\n",
       "      <th></th>\n",
       "      <th>Element</th>\n",
       "      <th>Z</th>\n",
       "      <th>Magnetism</th>\n",
       "    </tr>\n",
       "  </thead>\n",
       "  <tbody>\n",
       "    <tr>\n",
       "      <th>4</th>\n",
       "      <td>Iron</td>\n",
       "      <td>26</td>\n",
       "      <td>Ferromagnetic</td>\n",
       "    </tr>\n",
       "    <tr>\n",
       "      <th>5</th>\n",
       "      <td>Cobalt</td>\n",
       "      <td>27</td>\n",
       "      <td>Ferromagnetic</td>\n",
       "    </tr>\n",
       "    <tr>\n",
       "      <th>6</th>\n",
       "      <td>Nickel</td>\n",
       "      <td>28</td>\n",
       "      <td>Ferromagnetic</td>\n",
       "    </tr>\n",
       "  </tbody>\n",
       "</table>\n",
       "</div>"
      ],
      "text/plain": [
       "  Element   Z      Magnetism\n",
       "4    Iron  26  Ferromagnetic\n",
       "5  Cobalt  27  Ferromagnetic\n",
       "6  Nickel  28  Ferromagnetic"
      ]
     },
     "execution_count": 7,
     "metadata": {},
     "output_type": "execute_result"
    }
   ],
   "source": [
    "# Conditional that returns a boolean Series\n",
    "df.loc[df['Magnetism'] == 'Ferromagnetic']"
   ]
  },
  {
   "cell_type": "markdown",
   "id": "0e4fed4b-6322-4781-a599-c4beca4c991f",
   "metadata": {},
   "source": [
    "### Named Indices\n",
    "\n",
    "With the index argument, you can name your own indexes."
   ]
  },
  {
   "cell_type": "code",
   "execution_count": 8,
   "id": "dbd37303-7ffa-4f27-ad87-e71fbc3fd941",
   "metadata": {},
   "outputs": [
    {
     "name": "stdout",
     "output_type": "stream",
     "text": [
      "DataFrame:\n",
      "             0   1                  2\n",
      "Ti   Titanium  22       Paramagnetic\n",
      "V    Vanadium  23       Paramagnetic\n",
      "Mn  Manganese  24            Complex\n",
      "Cr   Chromium  25  Antiferromagnetic\n",
      "Fe       Iron  26      Ferromagnetic\n",
      "Co     Cobalt  27      Ferromagnetic\n",
      "Ni     Nickel  28      Ferromagnetic\n",
      "\n",
      "Refer to names index:\n",
      "0    Manganese\n",
      "1           24\n",
      "2      Complex\n",
      "Name: Mn, dtype: object\n"
     ]
    }
   ],
   "source": [
    "# Give each row a name\n",
    "df = pd.DataFrame(data, index = ['Ti', 'V', 'Mn', 'Cr', 'Fe', 'Co', 'Ni'])\n",
    "\n",
    "print('DataFrame:\\n', df)\n",
    "\n",
    "# Refer to the named index:\n",
    "print('\\nRefer to names index:')\n",
    "print(df.loc['Mn'])"
   ]
  },
  {
   "cell_type": "markdown",
   "id": "e5658f74-5b9c-43a9-ac2b-6ef97e582b62",
   "metadata": {},
   "source": [
    "## 2. Working with CSV Files\n",
    "\n",
    "A simple and widely used method to store big data sets is to use CSV (comma separated-values) files. CSV files contains plain text and ican be read by most software packages, including Pandas.\n",
    "\n",
    "In our examples we will be using a CSV file called cleavage_data.csv. This file contains the energy the cleave a number of materials."
   ]
  },
  {
   "cell_type": "code",
   "execution_count": 9,
   "id": "418fc2c2-e6ac-438c-b6e3-65be1ae8cc77",
   "metadata": {},
   "outputs": [
    {
     "data": {
      "text/html": [
       "<div>\n",
       "<style scoped>\n",
       "    .dataframe tbody tr th:only-of-type {\n",
       "        vertical-align: middle;\n",
       "    }\n",
       "\n",
       "    .dataframe tbody tr th {\n",
       "        vertical-align: top;\n",
       "    }\n",
       "\n",
       "    .dataframe thead th {\n",
       "        text-align: right;\n",
       "    }\n",
       "</style>\n",
       "<table border=\"1\" class=\"dataframe\">\n",
       "  <thead>\n",
       "    <tr style=\"text-align: right;\">\n",
       "      <th></th>\n",
       "      <th>Substrate Index</th>\n",
       "      <th>Materials Project ID</th>\n",
       "      <th>Initial formation energy</th>\n",
       "      <th>Final formation energy</th>\n",
       "      <th>Initial area</th>\n",
       "      <th>Final area</th>\n",
       "      <th>Work of Cleavage</th>\n",
       "      <th>Surface Energy</th>\n",
       "    </tr>\n",
       "  </thead>\n",
       "  <tbody>\n",
       "    <tr>\n",
       "      <th>0</th>\n",
       "      <td>291</td>\n",
       "      <td>mp-1215430</td>\n",
       "      <td>0.805967</td>\n",
       "      <td>0.709898</td>\n",
       "      <td>15.672351</td>\n",
       "      <td>15.672351</td>\n",
       "      <td>0.205704</td>\n",
       "      <td>0.090592</td>\n",
       "    </tr>\n",
       "    <tr>\n",
       "      <th>1</th>\n",
       "      <td>3538</td>\n",
       "      <td>mp-1228894</td>\n",
       "      <td>1.895515</td>\n",
       "      <td>1.883755</td>\n",
       "      <td>8.700654</td>\n",
       "      <td>8.700654</td>\n",
       "      <td>0.871436</td>\n",
       "      <td>0.433015</td>\n",
       "    </tr>\n",
       "    <tr>\n",
       "      <th>2</th>\n",
       "      <td>1060</td>\n",
       "      <td>mp-754655</td>\n",
       "      <td>2.186383</td>\n",
       "      <td>1.585846</td>\n",
       "      <td>13.489288</td>\n",
       "      <td>13.489288</td>\n",
       "      <td>0.810414</td>\n",
       "      <td>0.293908</td>\n",
       "    </tr>\n",
       "    <tr>\n",
       "      <th>3</th>\n",
       "      <td>2841</td>\n",
       "      <td>mp-981544</td>\n",
       "      <td>0.491037</td>\n",
       "      <td>0.394102</td>\n",
       "      <td>12.135709</td>\n",
       "      <td>12.135709</td>\n",
       "      <td>0.121386</td>\n",
       "      <td>0.048712</td>\n",
       "    </tr>\n",
       "    <tr>\n",
       "      <th>4</th>\n",
       "      <td>2031</td>\n",
       "      <td>mp-999502</td>\n",
       "      <td>1.359986</td>\n",
       "      <td>1.262626</td>\n",
       "      <td>12.435465</td>\n",
       "      <td>12.435465</td>\n",
       "      <td>0.437454</td>\n",
       "      <td>0.203069</td>\n",
       "    </tr>\n",
       "  </tbody>\n",
       "</table>\n",
       "</div>"
      ],
      "text/plain": [
       "   Substrate Index Materials Project ID  Initial formation energy  Final formation energy  Initial area  Final area  Work of Cleavage  Surface Energy\n",
       "0              291           mp-1215430                  0.805967                0.709898     15.672351   15.672351          0.205704        0.090592\n",
       "1             3538           mp-1228894                  1.895515                1.883755      8.700654    8.700654          0.871436        0.433015\n",
       "2             1060            mp-754655                  2.186383                1.585846     13.489288   13.489288          0.810414        0.293908\n",
       "3             2841            mp-981544                  0.491037                0.394102     12.135709   12.135709          0.121386        0.048712\n",
       "4             2031            mp-999502                  1.359986                1.262626     12.435465   12.435465          0.437454        0.203069"
      ]
     },
     "execution_count": 9,
     "metadata": {},
     "output_type": "execute_result"
    }
   ],
   "source": [
    "# Read CSV file into pandas dataframe if the file is locally available\n",
    "# df = pd.read_csv('Datasets/cleavage_data.csv')\n",
    "\n",
    "# Otherwise, we can read this file directly from a Zip file on MaterialsCloud.org\n",
    "from io import BytesIO\n",
    "from zipfile import ZipFile\n",
    "from urllib.request import urlopen\n",
    "\n",
    "url = urlopen(\"https://archive.materialscloud.org/record/file?filename=theoreticalCleavedSubstrates.zip&record_id=948\")\n",
    "\n",
    "#Download Zipfile and create pandas DataFrame\n",
    "zipfile = ZipFile(BytesIO(url.read()))\n",
    "data = pd.read_csv(zipfile.open('database/cleavage_data.csv'))\n",
    "\n",
    "# First five data entries\n",
    "data.head()"
   ]
  },
  {
   "cell_type": "code",
   "execution_count": 10,
   "id": "01a4d4da-b599-4d63-b149-134496bfe468",
   "metadata": {},
   "outputs": [
    {
     "data": {
      "text/html": [
       "<div>\n",
       "<style scoped>\n",
       "    .dataframe tbody tr th:only-of-type {\n",
       "        vertical-align: middle;\n",
       "    }\n",
       "\n",
       "    .dataframe tbody tr th {\n",
       "        vertical-align: top;\n",
       "    }\n",
       "\n",
       "    .dataframe thead th {\n",
       "        text-align: right;\n",
       "    }\n",
       "</style>\n",
       "<table border=\"1\" class=\"dataframe\">\n",
       "  <thead>\n",
       "    <tr style=\"text-align: right;\">\n",
       "      <th></th>\n",
       "      <th>Substrate Index</th>\n",
       "      <th>Materials Project ID</th>\n",
       "      <th>Initial formation energy</th>\n",
       "      <th>Final formation energy</th>\n",
       "      <th>Initial area</th>\n",
       "      <th>Final area</th>\n",
       "      <th>Work of Cleavage</th>\n",
       "      <th>Surface Energy</th>\n",
       "    </tr>\n",
       "  </thead>\n",
       "  <tbody>\n",
       "    <tr>\n",
       "      <th>4609</th>\n",
       "      <td>1544</td>\n",
       "      <td>mp-1068235</td>\n",
       "      <td>0.613948</td>\n",
       "      <td>0.601773</td>\n",
       "      <td>20.464395</td>\n",
       "      <td>20.464395</td>\n",
       "      <td>0.150004</td>\n",
       "      <td>0.073515</td>\n",
       "    </tr>\n",
       "    <tr>\n",
       "      <th>4610</th>\n",
       "      <td>368</td>\n",
       "      <td>mp-31380</td>\n",
       "      <td>0.482304</td>\n",
       "      <td>0.461286</td>\n",
       "      <td>17.680294</td>\n",
       "      <td>17.680294</td>\n",
       "      <td>0.109117</td>\n",
       "      <td>0.052181</td>\n",
       "    </tr>\n",
       "    <tr>\n",
       "      <th>4611</th>\n",
       "      <td>1107</td>\n",
       "      <td>mp-1215529</td>\n",
       "      <td>0.191980</td>\n",
       "      <td>0.188179</td>\n",
       "      <td>5.948710</td>\n",
       "      <td>5.948710</td>\n",
       "      <td>0.129090</td>\n",
       "      <td>0.063267</td>\n",
       "    </tr>\n",
       "    <tr>\n",
       "      <th>4612</th>\n",
       "      <td>898</td>\n",
       "      <td>mp-568993</td>\n",
       "      <td>0.542114</td>\n",
       "      <td>0.486801</td>\n",
       "      <td>16.941106</td>\n",
       "      <td>16.941106</td>\n",
       "      <td>0.159999</td>\n",
       "      <td>0.071837</td>\n",
       "    </tr>\n",
       "    <tr>\n",
       "      <th>4613</th>\n",
       "      <td>2565</td>\n",
       "      <td>mp-1224571</td>\n",
       "      <td>1.195508</td>\n",
       "      <td>0.593128</td>\n",
       "      <td>11.280699</td>\n",
       "      <td>11.280699</td>\n",
       "      <td>0.423913</td>\n",
       "      <td>0.105158</td>\n",
       "    </tr>\n",
       "  </tbody>\n",
       "</table>\n",
       "</div>"
      ],
      "text/plain": [
       "      Substrate Index Materials Project ID  Initial formation energy  Final formation energy  Initial area  Final area  Work of Cleavage  Surface Energy\n",
       "4609             1544           mp-1068235                  0.613948                0.601773     20.464395   20.464395          0.150004        0.073515\n",
       "4610              368             mp-31380                  0.482304                0.461286     17.680294   17.680294          0.109117        0.052181\n",
       "4611             1107           mp-1215529                  0.191980                0.188179      5.948710    5.948710          0.129090        0.063267\n",
       "4612              898            mp-568993                  0.542114                0.486801     16.941106   16.941106          0.159999        0.071837\n",
       "4613             2565           mp-1224571                  1.195508                0.593128     11.280699   11.280699          0.423913        0.105158"
      ]
     },
     "execution_count": 10,
     "metadata": {},
     "output_type": "execute_result"
    }
   ],
   "source": [
    "# Last five data entries\n",
    "data.tail()"
   ]
  },
  {
   "cell_type": "code",
   "execution_count": 11,
   "id": "16f6139b-2cb7-4d9a-b4cf-0e473beb2cb6",
   "metadata": {},
   "outputs": [
    {
     "data": {
      "text/html": [
       "<div>\n",
       "<style scoped>\n",
       "    .dataframe tbody tr th:only-of-type {\n",
       "        vertical-align: middle;\n",
       "    }\n",
       "\n",
       "    .dataframe tbody tr th {\n",
       "        vertical-align: top;\n",
       "    }\n",
       "\n",
       "    .dataframe thead th {\n",
       "        text-align: right;\n",
       "    }\n",
       "</style>\n",
       "<table border=\"1\" class=\"dataframe\">\n",
       "  <thead>\n",
       "    <tr style=\"text-align: right;\">\n",
       "      <th></th>\n",
       "      <th>Substrate Index</th>\n",
       "      <th>Initial formation energy</th>\n",
       "      <th>Final formation energy</th>\n",
       "      <th>Initial area</th>\n",
       "      <th>Final area</th>\n",
       "      <th>Work of Cleavage</th>\n",
       "      <th>Surface Energy</th>\n",
       "    </tr>\n",
       "  </thead>\n",
       "  <tbody>\n",
       "    <tr>\n",
       "      <th>count</th>\n",
       "      <td>4614.000000</td>\n",
       "      <td>4614.000000</td>\n",
       "      <td>4614.000000</td>\n",
       "      <td>4614.000000</td>\n",
       "      <td>4614.000000</td>\n",
       "      <td>4614.000000</td>\n",
       "      <td>4614.000000</td>\n",
       "    </tr>\n",
       "    <tr>\n",
       "      <th>mean</th>\n",
       "      <td>2342.658431</td>\n",
       "      <td>0.777245</td>\n",
       "      <td>0.677913</td>\n",
       "      <td>17.319837</td>\n",
       "      <td>17.319837</td>\n",
       "      <td>0.243117</td>\n",
       "      <td>0.105894</td>\n",
       "    </tr>\n",
       "    <tr>\n",
       "      <th>std</th>\n",
       "      <td>1358.743406</td>\n",
       "      <td>0.633077</td>\n",
       "      <td>0.598184</td>\n",
       "      <td>10.523085</td>\n",
       "      <td>10.523085</td>\n",
       "      <td>0.253263</td>\n",
       "      <td>0.118708</td>\n",
       "    </tr>\n",
       "    <tr>\n",
       "      <th>min</th>\n",
       "      <td>1.000000</td>\n",
       "      <td>0.004851</td>\n",
       "      <td>0.004851</td>\n",
       "      <td>5.387589</td>\n",
       "      <td>5.387589</td>\n",
       "      <td>0.000925</td>\n",
       "      <td>0.000463</td>\n",
       "    </tr>\n",
       "    <tr>\n",
       "      <th>25%</th>\n",
       "      <td>1163.250000</td>\n",
       "      <td>0.414807</td>\n",
       "      <td>0.340569</td>\n",
       "      <td>12.450114</td>\n",
       "      <td>12.450114</td>\n",
       "      <td>0.105097</td>\n",
       "      <td>0.044686</td>\n",
       "    </tr>\n",
       "    <tr>\n",
       "      <th>50%</th>\n",
       "      <td>2337.500000</td>\n",
       "      <td>0.643034</td>\n",
       "      <td>0.551580</td>\n",
       "      <td>15.382083</td>\n",
       "      <td>15.382083</td>\n",
       "      <td>0.181605</td>\n",
       "      <td>0.079720</td>\n",
       "    </tr>\n",
       "    <tr>\n",
       "      <th>75%</th>\n",
       "      <td>3521.750000</td>\n",
       "      <td>0.971106</td>\n",
       "      <td>0.866148</td>\n",
       "      <td>17.927848</td>\n",
       "      <td>17.927848</td>\n",
       "      <td>0.304334</td>\n",
       "      <td>0.134306</td>\n",
       "    </tr>\n",
       "    <tr>\n",
       "      <th>max</th>\n",
       "      <td>4692.000000</td>\n",
       "      <td>9.360227</td>\n",
       "      <td>9.360227</td>\n",
       "      <td>131.170497</td>\n",
       "      <td>131.170497</td>\n",
       "      <td>7.147410</td>\n",
       "      <td>3.573705</td>\n",
       "    </tr>\n",
       "  </tbody>\n",
       "</table>\n",
       "</div>"
      ],
      "text/plain": [
       "       Substrate Index  Initial formation energy  Final formation energy  Initial area   Final area  Work of Cleavage  Surface Energy\n",
       "count      4614.000000               4614.000000             4614.000000   4614.000000  4614.000000       4614.000000     4614.000000\n",
       "mean       2342.658431                  0.777245                0.677913     17.319837    17.319837          0.243117        0.105894\n",
       "std        1358.743406                  0.633077                0.598184     10.523085    10.523085          0.253263        0.118708\n",
       "min           1.000000                  0.004851                0.004851      5.387589     5.387589          0.000925        0.000463\n",
       "25%        1163.250000                  0.414807                0.340569     12.450114    12.450114          0.105097        0.044686\n",
       "50%        2337.500000                  0.643034                0.551580     15.382083    15.382083          0.181605        0.079720\n",
       "75%        3521.750000                  0.971106                0.866148     17.927848    17.927848          0.304334        0.134306\n",
       "max        4692.000000                  9.360227                9.360227    131.170497   131.170497          7.147410        3.573705"
      ]
     },
     "execution_count": 11,
     "metadata": {},
     "output_type": "execute_result"
    }
   ],
   "source": [
    "# Print information about the data\n",
    "data.describe()"
   ]
  },
  {
   "cell_type": "code",
   "execution_count": 12,
   "id": "f5b07d83-a0f2-499f-8081-ee55cb00f037",
   "metadata": {},
   "outputs": [
    {
     "name": "stdout",
     "output_type": "stream",
     "text": [
      "<class 'pandas.core.frame.DataFrame'>\n",
      "RangeIndex: 4614 entries, 0 to 4613\n",
      "Data columns (total 8 columns):\n",
      " #   Column                    Non-Null Count  Dtype  \n",
      "---  ------                    --------------  -----  \n",
      " 0   Substrate Index           4614 non-null   int64  \n",
      " 1   Materials Project ID      4614 non-null   object \n",
      " 2   Initial formation energy  4614 non-null   float64\n",
      " 3   Final formation energy    4614 non-null   float64\n",
      " 4   Initial area              4614 non-null   float64\n",
      " 5   Final area                4614 non-null   float64\n",
      " 6   Work of Cleavage          4614 non-null   float64\n",
      " 7   Surface Energy            4614 non-null   float64\n",
      "dtypes: float64(6), int64(1), object(1)\n",
      "memory usage: 288.5+ KB\n",
      "None\n"
     ]
    }
   ],
   "source": [
    "# Information about the data\n",
    "print(data.info()) "
   ]
  },
  {
   "cell_type": "markdown",
   "id": "83743deb-bbdb-443f-8389-e936a464db67",
   "metadata": {},
   "source": [
    "The result tells us there are 4614 rows and 8 columns and the name of each column, with the data type.\n",
    "\n",
    "We also see how many null entries (no values) each column contains. This dataset contains no empty entries."
   ]
  },
  {
   "cell_type": "markdown",
   "id": "8c8ff673-56bc-4fdb-b73f-f3f2f3764d9c",
   "metadata": {},
   "source": [
    "## 3. Cleaning Data\n",
    "\n",
    "Data scientists spend a large amount of their time cleaning datasets. Often these initial steps of obtaining and cleaning data constitute about 80% of the work in a machine learning project.\n",
    "\n",
    "Therefore, we need to learn to deal with messy data, whether that means missing values, inconsistent formatting, malformed records, or nonsensical outliers.\n",
    "\n",
    "Here, we will use the Pandas and NumPy libraries to clean data.\n",
    "\n",
    "We’ll cover the following:\n",
    "- Dropping unnecessary columns in a DataFrame\n",
    "- Changing the index of a DataFrame"
   ]
  },
  {
   "cell_type": "code",
   "execution_count": 13,
   "id": "8a427e3d-1bc0-400b-bb45-56e1670cfdff",
   "metadata": {},
   "outputs": [],
   "source": [
    "import pandas as pd\n",
    "import numpy as np"
   ]
  },
  {
   "cell_type": "markdown",
   "id": "158bca59-96ae-4de3-b683-7bb6a1c0a506",
   "metadata": {},
   "source": [
    "### Dropping Columns in a DataFrame\n",
    "\n",
    "Often, not all the categories of data in a dataset are useful for our analysis. For example, a dataset may contain materials information (composition, crystal structure, thermodynamics data, mechanical, electronic, and magnetic properties) but we may want to focus on analyzing the bulk modulus.\n",
    "\n",
    "In this case, the electronic, and magnetic properties are not important. Retaining these unneeded categories will take up unnecessary space and potentially also bog down runtime.\n",
    "\n",
    "Pandas provides a handy way of removing unwanted columns or rows from a DataFrame with the drop() function. Let’s look at a simple example where we drop a number of columns from a DataFrame.\n",
    "\n",
    "First, let’s use the DataFrame from the CSV file ‘cleavage_data.csv’. In the examples below, we pass a relative path to pd.read_csv, meaning that all of the datasets are in a folder named Datasets in our current working directory:"
   ]
  },
  {
   "cell_type": "code",
   "execution_count": 14,
   "id": "41e7e5e9-2984-421c-9917-f3da6cbc2200",
   "metadata": {},
   "outputs": [
    {
     "data": {
      "text/html": [
       "<div>\n",
       "<style scoped>\n",
       "    .dataframe tbody tr th:only-of-type {\n",
       "        vertical-align: middle;\n",
       "    }\n",
       "\n",
       "    .dataframe tbody tr th {\n",
       "        vertical-align: top;\n",
       "    }\n",
       "\n",
       "    .dataframe thead th {\n",
       "        text-align: right;\n",
       "    }\n",
       "</style>\n",
       "<table border=\"1\" class=\"dataframe\">\n",
       "  <thead>\n",
       "    <tr style=\"text-align: right;\">\n",
       "      <th></th>\n",
       "      <th>Substrate Index</th>\n",
       "      <th>Materials Project ID</th>\n",
       "      <th>Initial formation energy</th>\n",
       "      <th>Final formation energy</th>\n",
       "      <th>Initial area</th>\n",
       "      <th>Final area</th>\n",
       "      <th>Work of Cleavage</th>\n",
       "      <th>Surface Energy</th>\n",
       "    </tr>\n",
       "  </thead>\n",
       "  <tbody>\n",
       "    <tr>\n",
       "      <th>0</th>\n",
       "      <td>291</td>\n",
       "      <td>mp-1215430</td>\n",
       "      <td>0.805967</td>\n",
       "      <td>0.709898</td>\n",
       "      <td>15.672351</td>\n",
       "      <td>15.672351</td>\n",
       "      <td>0.205704</td>\n",
       "      <td>0.090592</td>\n",
       "    </tr>\n",
       "    <tr>\n",
       "      <th>1</th>\n",
       "      <td>3538</td>\n",
       "      <td>mp-1228894</td>\n",
       "      <td>1.895515</td>\n",
       "      <td>1.883755</td>\n",
       "      <td>8.700654</td>\n",
       "      <td>8.700654</td>\n",
       "      <td>0.871436</td>\n",
       "      <td>0.433015</td>\n",
       "    </tr>\n",
       "    <tr>\n",
       "      <th>2</th>\n",
       "      <td>1060</td>\n",
       "      <td>mp-754655</td>\n",
       "      <td>2.186383</td>\n",
       "      <td>1.585846</td>\n",
       "      <td>13.489288</td>\n",
       "      <td>13.489288</td>\n",
       "      <td>0.810414</td>\n",
       "      <td>0.293908</td>\n",
       "    </tr>\n",
       "    <tr>\n",
       "      <th>3</th>\n",
       "      <td>2841</td>\n",
       "      <td>mp-981544</td>\n",
       "      <td>0.491037</td>\n",
       "      <td>0.394102</td>\n",
       "      <td>12.135709</td>\n",
       "      <td>12.135709</td>\n",
       "      <td>0.121386</td>\n",
       "      <td>0.048712</td>\n",
       "    </tr>\n",
       "    <tr>\n",
       "      <th>4</th>\n",
       "      <td>2031</td>\n",
       "      <td>mp-999502</td>\n",
       "      <td>1.359986</td>\n",
       "      <td>1.262626</td>\n",
       "      <td>12.435465</td>\n",
       "      <td>12.435465</td>\n",
       "      <td>0.437454</td>\n",
       "      <td>0.203069</td>\n",
       "    </tr>\n",
       "  </tbody>\n",
       "</table>\n",
       "</div>"
      ],
      "text/plain": [
       "   Substrate Index Materials Project ID  Initial formation energy  Final formation energy  Initial area  Final area  Work of Cleavage  Surface Energy\n",
       "0              291           mp-1215430                  0.805967                0.709898     15.672351   15.672351          0.205704        0.090592\n",
       "1             3538           mp-1228894                  1.895515                1.883755      8.700654    8.700654          0.871436        0.433015\n",
       "2             1060            mp-754655                  2.186383                1.585846     13.489288   13.489288          0.810414        0.293908\n",
       "3             2841            mp-981544                  0.491037                0.394102     12.135709   12.135709          0.121386        0.048712\n",
       "4             2031            mp-999502                  1.359986                1.262626     12.435465   12.435465          0.437454        0.203069"
      ]
     },
     "execution_count": 14,
     "metadata": {},
     "output_type": "execute_result"
    }
   ],
   "source": [
    "# First five data entries\n",
    "data.head()"
   ]
  },
  {
   "cell_type": "markdown",
   "id": "12381d3c-65af-41fd-9487-167d87441c78",
   "metadata": {},
   "source": [
    "When we look at the first five entries using the head() method, we can see that a handful of columns provide ancillary information that may not be of interest if we want to select a substrate materials for a synthesis experiment: `Initial formation energy`, `Final formation energy`, `Initial area`.\n",
    "\n",
    "We can drop these columns."
   ]
  },
  {
   "cell_type": "code",
   "execution_count": 15,
   "id": "c3f393f0-5116-4c85-bc92-582fa02ff437",
   "metadata": {},
   "outputs": [
    {
     "data": {
      "text/html": [
       "<div>\n",
       "<style scoped>\n",
       "    .dataframe tbody tr th:only-of-type {\n",
       "        vertical-align: middle;\n",
       "    }\n",
       "\n",
       "    .dataframe tbody tr th {\n",
       "        vertical-align: top;\n",
       "    }\n",
       "\n",
       "    .dataframe thead th {\n",
       "        text-align: right;\n",
       "    }\n",
       "</style>\n",
       "<table border=\"1\" class=\"dataframe\">\n",
       "  <thead>\n",
       "    <tr style=\"text-align: right;\">\n",
       "      <th></th>\n",
       "      <th>Substrate Index</th>\n",
       "      <th>Materials Project ID</th>\n",
       "      <th>Final area</th>\n",
       "      <th>Work of Cleavage</th>\n",
       "      <th>Surface Energy</th>\n",
       "    </tr>\n",
       "  </thead>\n",
       "  <tbody>\n",
       "    <tr>\n",
       "      <th>0</th>\n",
       "      <td>291</td>\n",
       "      <td>mp-1215430</td>\n",
       "      <td>15.672351</td>\n",
       "      <td>0.205704</td>\n",
       "      <td>0.090592</td>\n",
       "    </tr>\n",
       "    <tr>\n",
       "      <th>1</th>\n",
       "      <td>3538</td>\n",
       "      <td>mp-1228894</td>\n",
       "      <td>8.700654</td>\n",
       "      <td>0.871436</td>\n",
       "      <td>0.433015</td>\n",
       "    </tr>\n",
       "    <tr>\n",
       "      <th>2</th>\n",
       "      <td>1060</td>\n",
       "      <td>mp-754655</td>\n",
       "      <td>13.489288</td>\n",
       "      <td>0.810414</td>\n",
       "      <td>0.293908</td>\n",
       "    </tr>\n",
       "    <tr>\n",
       "      <th>3</th>\n",
       "      <td>2841</td>\n",
       "      <td>mp-981544</td>\n",
       "      <td>12.135709</td>\n",
       "      <td>0.121386</td>\n",
       "      <td>0.048712</td>\n",
       "    </tr>\n",
       "    <tr>\n",
       "      <th>4</th>\n",
       "      <td>2031</td>\n",
       "      <td>mp-999502</td>\n",
       "      <td>12.435465</td>\n",
       "      <td>0.437454</td>\n",
       "      <td>0.203069</td>\n",
       "    </tr>\n",
       "  </tbody>\n",
       "</table>\n",
       "</div>"
      ],
      "text/plain": [
       "   Substrate Index Materials Project ID  Final area  Work of Cleavage  Surface Energy\n",
       "0              291           mp-1215430   15.672351          0.205704        0.090592\n",
       "1             3538           mp-1228894    8.700654          0.871436        0.433015\n",
       "2             1060            mp-754655   13.489288          0.810414        0.293908\n",
       "3             2841            mp-981544   12.135709          0.121386        0.048712\n",
       "4             2031            mp-999502   12.435465          0.437454        0.203069"
      ]
     },
     "execution_count": 15,
     "metadata": {},
     "output_type": "execute_result"
    }
   ],
   "source": [
    "# Define a list of column names to drop.\n",
    "to_drop = ['Initial formation energy', 'Final formation energy', 'Initial area']\n",
    "\n",
    "# Tell pandas to drop these columns directly in the dataset (inplace = True)\n",
    "data.drop(columns=to_drop, inplace=True)\n",
    "\n",
    "# First five entries of cleaned DataFrame\n",
    "data.head()"
   ]
  },
  {
   "cell_type": "markdown",
   "id": "27cebb01-cd4e-4502-b38f-f014e1cdd2a1",
   "metadata": {},
   "source": [
    "Alternatively, if we know which columns we need, we could pass the names of the columns as a list to the `usecols` argument of `pd.read_csv`."
   ]
  },
  {
   "cell_type": "markdown",
   "id": "2158481b-4713-409b-aef6-f611c145d2fe",
   "metadata": {},
   "source": [
    "### Changing the Index of a DataFrame\n",
    "\n",
    "A Pandas Index extends the functionality of NumPy arrays to allow for more versatile slicing and labeling. In many cases, it is helpful to use a uniquely valued identifying field of the data as its index.\n",
    "\n",
    "For example, in the cleavage dataset, we may want to use the `Substrate Index` as a unique identifier."
   ]
  },
  {
   "cell_type": "code",
   "execution_count": 16,
   "id": "dff58951-5e6c-4385-af2c-6a42be178d61",
   "metadata": {},
   "outputs": [
    {
     "data": {
      "text/plain": [
       "True"
      ]
     },
     "execution_count": 16,
     "metadata": {},
     "output_type": "execute_result"
    }
   ],
   "source": [
    "# Check that the Substrate Index is a unique identifier\n",
    "data['Substrate Index'].is_unique"
   ]
  },
  {
   "cell_type": "code",
   "execution_count": 17,
   "id": "91112305-c9a3-4929-879c-931c73c2fc50",
   "metadata": {},
   "outputs": [
    {
     "data": {
      "text/html": [
       "<div>\n",
       "<style scoped>\n",
       "    .dataframe tbody tr th:only-of-type {\n",
       "        vertical-align: middle;\n",
       "    }\n",
       "\n",
       "    .dataframe tbody tr th {\n",
       "        vertical-align: top;\n",
       "    }\n",
       "\n",
       "    .dataframe thead th {\n",
       "        text-align: right;\n",
       "    }\n",
       "</style>\n",
       "<table border=\"1\" class=\"dataframe\">\n",
       "  <thead>\n",
       "    <tr style=\"text-align: right;\">\n",
       "      <th></th>\n",
       "      <th>Materials Project ID</th>\n",
       "      <th>Final area</th>\n",
       "      <th>Work of Cleavage</th>\n",
       "      <th>Surface Energy</th>\n",
       "    </tr>\n",
       "    <tr>\n",
       "      <th>Substrate Index</th>\n",
       "      <th></th>\n",
       "      <th></th>\n",
       "      <th></th>\n",
       "      <th></th>\n",
       "    </tr>\n",
       "  </thead>\n",
       "  <tbody>\n",
       "    <tr>\n",
       "      <th>291</th>\n",
       "      <td>mp-1215430</td>\n",
       "      <td>15.672351</td>\n",
       "      <td>0.205704</td>\n",
       "      <td>0.090592</td>\n",
       "    </tr>\n",
       "    <tr>\n",
       "      <th>3538</th>\n",
       "      <td>mp-1228894</td>\n",
       "      <td>8.700654</td>\n",
       "      <td>0.871436</td>\n",
       "      <td>0.433015</td>\n",
       "    </tr>\n",
       "    <tr>\n",
       "      <th>1060</th>\n",
       "      <td>mp-754655</td>\n",
       "      <td>13.489288</td>\n",
       "      <td>0.810414</td>\n",
       "      <td>0.293908</td>\n",
       "    </tr>\n",
       "    <tr>\n",
       "      <th>2841</th>\n",
       "      <td>mp-981544</td>\n",
       "      <td>12.135709</td>\n",
       "      <td>0.121386</td>\n",
       "      <td>0.048712</td>\n",
       "    </tr>\n",
       "    <tr>\n",
       "      <th>2031</th>\n",
       "      <td>mp-999502</td>\n",
       "      <td>12.435465</td>\n",
       "      <td>0.437454</td>\n",
       "      <td>0.203069</td>\n",
       "    </tr>\n",
       "  </tbody>\n",
       "</table>\n",
       "</div>"
      ],
      "text/plain": [
       "                Materials Project ID  Final area  Work of Cleavage  Surface Energy\n",
       "Substrate Index                                                                   \n",
       "291                       mp-1215430   15.672351          0.205704        0.090592\n",
       "3538                      mp-1228894    8.700654          0.871436        0.433015\n",
       "1060                       mp-754655   13.489288          0.810414        0.293908\n",
       "2841                       mp-981544   12.135709          0.121386        0.048712\n",
       "2031                       mp-999502   12.435465          0.437454        0.203069"
      ]
     },
     "execution_count": 17,
     "metadata": {},
     "output_type": "execute_result"
    }
   ],
   "source": [
    "# Let’s replace the existing index with this column using set_index\n",
    "data.set_index('Substrate Index', inplace=True)\n",
    "data.head()"
   ]
  },
  {
   "cell_type": "markdown",
   "id": "3038024e-e43e-4705-a648-b375cb75feb9",
   "metadata": {},
   "source": [
    "There are many other ways that Pandas can help us clean data, such as:\n",
    "- Dealing with empty cells\n",
    "- Using .str() methods to clean columns\n",
    "- Using the DataFrame.applymap() function to clean the entire dataset, element-wise\n",
    "- Renaming columns to a more recognizable set of labels\n",
    "- Skipping unnecessary rows in a CSV file\n",
    "- Remove duplicate entries\n",
    "\n",
    "You can find information about these methods in the following two tutorials:\n",
    "- https://www.w3schools.com/python/pandas/pandas_cleaning.asp\n",
    "- https://realpython.com/python-data-cleaning-numpy-pandas/"
   ]
  },
  {
   "cell_type": "code",
   "execution_count": null,
   "id": "0f7c9111-28c7-4db2-8e16-af0fc32c9011",
   "metadata": {},
   "outputs": [],
   "source": []
  }
 ],
 "metadata": {
  "kernelspec": {
   "display_name": "Python 3 (ipykernel)",
   "language": "python",
   "name": "python3"
  },
  "language_info": {
   "codemirror_mode": {
    "name": "ipython",
    "version": 3
   },
   "file_extension": ".py",
   "mimetype": "text/x-python",
   "name": "python",
   "nbconvert_exporter": "python",
   "pygments_lexer": "ipython3",
   "version": "3.8.12"
  }
 },
 "nbformat": 4,
 "nbformat_minor": 5
}
